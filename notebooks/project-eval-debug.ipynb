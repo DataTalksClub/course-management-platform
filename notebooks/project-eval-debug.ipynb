{
 "cells": [
  {
   "cell_type": "code",
   "execution_count": 2,
   "id": "f78701db",
   "metadata": {},
   "outputs": [
    {
     "name": "stdout",
     "output_type": "stream",
     "text": [
      "IS_LOCAL=True\n",
      "['C:\\\\Users\\\\alexe\\\\.virtualenvs\\\\course-management-platform-wiAsnpQu\\\\lib\\\\site-packages\\\\ipykernel_launcher.py', '-f', 'C:\\\\Users\\\\alexe\\\\AppData\\\\Roaming\\\\jupyter\\\\runtime\\\\kernel-ff3940e8-0258-47fc-a67c-6420f1f99ec2.json']\n",
      "Is test: False\n"
     ]
    }
   ],
   "source": [
    "import os\n",
    "os.chdir('..')\n",
    "\n",
    "os.environ[\"DJANGO_SETTINGS_MODULE\"] = \"course_management.settings\"\n",
    "os.environ[\"DJANGO_ALLOW_ASYNC_UNSAFE\"] = \"true\"\n",
    "os.environ[\"IS_LOCAL\"] = \"1\"\n",
    "\n",
    "import django\n",
    "django.setup()"
   ]
  },
  {
   "cell_type": "code",
   "execution_count": 31,
   "id": "c7af9387-0c73-4b6d-a0db-e49bee7237fd",
   "metadata": {},
   "outputs": [],
   "source": [
    "from courses.models import Course, Project, ProjectSubmission, User, PeerReview, CriteriaResponse"
   ]
  },
  {
   "cell_type": "code",
   "execution_count": null,
   "id": "f4e5e6ca-8631-4e78-a08c-32198a42f972",
   "metadata": {},
   "outputs": [],
   "source": [
    "email = 'xxx'\n",
    "user, = User.objects.filter(email=email)\n",
    "user"
   ]
  },
  {
   "cell_type": "code",
   "execution_count": 14,
   "id": "303e145b-4fae-4e21-bb92-52f1289bfbf3",
   "metadata": {},
   "outputs": [
    {
     "data": {
      "text/plain": [
       "<Course: Data Engineering Zoomcamp 2024>"
      ]
     },
     "execution_count": 14,
     "metadata": {},
     "output_type": "execute_result"
    }
   ],
   "source": [
    "course = Course.objects.get(id=1)\n",
    "course"
   ]
  },
  {
   "cell_type": "code",
   "execution_count": 17,
   "id": "39c0ed98-d192-49b9-80a4-76635b0a4d5b",
   "metadata": {},
   "outputs": [],
   "source": [
    "project = Project.objects.get(id=1)"
   ]
  },
  {
   "cell_type": "code",
   "execution_count": 19,
   "id": "8380b6de-e2ef-4671-9c32-365bd63be8bd",
   "metadata": {},
   "outputs": [],
   "source": [
    "submission, = ProjectSubmission.objects.filter(project=project, student=user)"
   ]
  },
  {
   "cell_type": "code",
   "execution_count": 20,
   "id": "4987a39d-e4cd-4d81-af0e-224cb68f85c3",
   "metadata": {},
   "outputs": [
    {
     "data": {
      "text/plain": [
       "<ProjectSubmission: project submission for enrollment 1059>"
      ]
     },
     "execution_count": 20,
     "metadata": {},
     "output_type": "execute_result"
    }
   ],
   "source": [
    "submission"
   ]
  },
  {
   "cell_type": "code",
   "execution_count": 21,
   "id": "641612f7-c5d8-4e0b-8302-bc290320441e",
   "metadata": {},
   "outputs": [
    {
     "data": {
      "text/plain": [
       "False"
      ]
     },
     "execution_count": 21,
     "metadata": {},
     "output_type": "execute_result"
    }
   ],
   "source": [
    "submission.passed"
   ]
  },
  {
   "cell_type": "code",
   "execution_count": 23,
   "id": "1bd0e856-cd24-4717-b8b8-75823399c7a6",
   "metadata": {},
   "outputs": [
    {
     "data": {
      "text/plain": [
       "11"
      ]
     },
     "execution_count": 23,
     "metadata": {},
     "output_type": "execute_result"
    }
   ],
   "source": [
    "submission.project_score"
   ]
  },
  {
   "cell_type": "code",
   "execution_count": 26,
   "id": "e9c2e77a-1b16-412d-9e56-b4a9844afd15",
   "metadata": {},
   "outputs": [],
   "source": [
    "reviews = PeerReview.objects.filter(submission_under_evaluation=submission)"
   ]
  },
  {
   "cell_type": "code",
   "execution_count": 27,
   "id": "ce82109a-ba12-43f3-9e93-5d01d920507c",
   "metadata": {},
   "outputs": [
    {
     "data": {
      "text/plain": [
       "3"
      ]
     },
     "execution_count": 27,
     "metadata": {},
     "output_type": "execute_result"
    }
   ],
   "source": [
    "len(reviews)"
   ]
  },
  {
   "cell_type": "code",
   "execution_count": 33,
   "id": "fb67ab7e-ba1c-47a7-84f2-c12623be8325",
   "metadata": {},
   "outputs": [
    {
     "name": "stdout",
     "output_type": "stream",
     "text": [
      "195, state=SU\n",
      "In my opinion, this is more like a data analysis project rather than a data engineering project. In my opinion, the project is in its initial stages, but it has the potential to evolve into a data engineering project.\n",
      "Problem description\n",
      "[1]\n",
      "Cloud\n",
      "[4]\n",
      "Data Ingestion: Batch / Workflow orchestration\n",
      "[0]\n",
      "Data Ingestion: Stream\n",
      "[0]\n",
      "Data warehouse\n",
      "[0]\n",
      "Transformations (dbt, spark, etc)\n",
      "[0]\n",
      "Dashboard\n",
      "[4]\n",
      "Reproducibility\n",
      "[2]\n",
      "\n",
      "65, state=SU\n",
      "I think you put in a bit of effort into the project, but I don't think you really followed the brief that was given (https://github.com/DataTalksClub/data-engineering-zoomcamp/tree/main/projects#problem-statement)\n",
      "\n",
      "Some feedback I have:\n",
      "- There was no `requirements.txt` file for your Jupyter notebook. This makes it difficult for someone to know what packages are necessary to run the file. Ideally these would be automatically installed when the script or notebook is run\n",
      "- You had no orchestrator set up\n",
      "- You didn't set up a process to send the data to a data lake\n",
      "- There's no process to send the data from the data lake to the data warehouse (you set up a BigQuery dataset in your Terraform file, but it's never used)\n",
      "- There is some data transformation and cleaning going on which is good, but it's not really clear how it's being done or what the transformations are for\n",
      "- You've created a dashboard, but you didn't provide a link to it so I can't check it out\n",
      "- It's not clear why you created a VM and VPC network in Terraform. What are these for?\n",
      "- You haven't really provided a problem statement for your project. What is it you wanted to do with this data?\n",
      "- I think you would have benefited from using Docker for your project to aid in reproducibility, as well as maybe taking care to ensure that reviewers can reproduce everything\n",
      "- The process is quite manual. Data Engineering is about making things just \"work\" nice and automatically, which I don't think is the case here\n",
      "\n",
      "Overall, I think your approach wasn't bad, it's just very basic and the project could have been a lot more fleshed out before submitting (you even mention some potential improvements at the bottom of the README). Your Terraform setup worked and you seem to have the hang of PySpark. The next steps are making this a fully featured Data Engineering project!\n",
      "Problem description\n",
      "[1]\n",
      "Cloud\n",
      "[4]\n",
      "Data Ingestion: Batch / Workflow orchestration\n",
      "[0]\n",
      "Data Ingestion: Stream\n",
      "[0]\n",
      "Data warehouse\n",
      "[0]\n",
      "Transformations (dbt, spark, etc)\n",
      "[0]\n",
      "Dashboard\n",
      "[4]\n",
      "Reproducibility\n",
      "[2]\n",
      "\n",
      "103, state=SU\n",
      "Did not see any orchestration plus using notebooks in data pipeline is advised against\n",
      "Problem description\n",
      "[1]\n",
      "Cloud\n",
      "[4]\n",
      "Data Ingestion: Batch / Workflow orchestration\n",
      "[0]\n",
      "Data Ingestion: Stream\n",
      "[0]\n",
      "Data warehouse\n",
      "[0]\n",
      "Transformations (dbt, spark, etc)\n",
      "[0]\n",
      "Dashboard\n",
      "[4]\n",
      "Reproducibility\n",
      "[2]\n",
      "\n"
     ]
    }
   ],
   "source": [
    "for review in reviews:\n",
    "    print(f\"{review.id}, state={review.state}\")\n",
    "    print(review.note_to_peer)\n",
    "\n",
    "    responses = CriteriaResponse.objects.filter(review=r)\n",
    "    for resp in responses:\n",
    "        print(f\"{resp.criteria.description} {resp.get_score()}\")\n",
    "\n",
    "    print()"
   ]
  },
  {
   "cell_type": "code",
   "execution_count": null,
   "id": "c3a60ba4-939f-459b-b7be-2d495f010361",
   "metadata": {},
   "outputs": [],
   "source": []
  }
 ],
 "metadata": {
  "kernelspec": {
   "display_name": "Python 3 (ipykernel)",
   "language": "python",
   "name": "python3"
  },
  "language_info": {
   "codemirror_mode": {
    "name": "ipython",
    "version": 3
   },
   "file_extension": ".py",
   "mimetype": "text/x-python",
   "name": "python",
   "nbconvert_exporter": "python",
   "pygments_lexer": "ipython3",
   "version": "3.9.13"
  }
 },
 "nbformat": 4,
 "nbformat_minor": 5
}
