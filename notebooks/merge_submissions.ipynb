{
 "cells": [
  {
   "cell_type": "code",
   "execution_count": 1,
   "id": "f78701db",
   "metadata": {},
   "outputs": [
    {
     "name": "stdout",
     "output_type": "stream",
     "text": [
      "IS_LOCAL=True\n",
      "['C:\\\\Users\\\\alexe\\\\.virtualenvs\\\\course-management-platform-wiAsnpQu\\\\lib\\\\site-packages\\\\ipykernel_launcher.py', '-f', 'C:\\\\Users\\\\alexe\\\\AppData\\\\Roaming\\\\jupyter\\\\runtime\\\\kernel-bacd9c8c-821b-460f-ad42-d7e86b2a1932.json']\n",
      "Is test: False\n"
     ]
    }
   ],
   "source": [
    "import os\n",
    "os.chdir('..')\n",
    "\n",
    "os.environ[\"DJANGO_SETTINGS_MODULE\"] = \"course_management.settings\"\n",
    "os.environ[\"DJANGO_ALLOW_ASYNC_UNSAFE\"] = \"true\"\n",
    "os.environ[\"IS_LOCAL\"] = \"1\"\n",
    "\n",
    "import django\n",
    "django.setup()"
   ]
  },
  {
   "cell_type": "code",
   "execution_count": 2,
   "id": "c7af9387-0c73-4b6d-a0db-e49bee7237fd",
   "metadata": {},
   "outputs": [],
   "source": [
    "from courses.models import *"
   ]
  },
  {
   "cell_type": "code",
   "execution_count": null,
   "id": "a9d73e4f-6889-4237-a262-9ee655c45999",
   "metadata": {},
   "outputs": [],
   "source": [
    "course = Course.objects.get(id=1)"
   ]
  },
  {
   "cell_type": "code",
   "execution_count": 9,
   "id": "bfc4ba99-14bc-44ec-8a23-d3d3b4b0c3cd",
   "metadata": {},
   "outputs": [],
   "source": [
    "email_main = \"x\"\n",
    "email_other = \"y\"\n",
    "\n",
    "user_main = User.objects.get(email=email_main)\n",
    "enrollment_main = Enrollment.objects.get(course=course, student=user_main)\n",
    "\n",
    "user_other = User.objects.get(email=email_other)\n",
    "enrollment_other = Enrollment.objects.get(course=course, student=user_other)"
   ]
  },
  {
   "cell_type": "code",
   "execution_count": 22,
   "id": "c2821302-5984-4442-86ae-77441de94318",
   "metadata": {},
   "outputs": [
    {
     "name": "stdout",
     "output_type": "stream",
     "text": [
      "25 58\n",
      "1253 7\n"
     ]
    }
   ],
   "source": [
    "print(enrollment_main.id, enrollment_main.total_score)\n",
    "print(enrollment_other.id, enrollment_other.total_score)"
   ]
  },
  {
   "cell_type": "code",
   "execution_count": 21,
   "id": "4cf3d02a-c66a-42dd-8f7e-91ee592deae9",
   "metadata": {},
   "outputs": [],
   "source": [
    "other_submissions = Submission.objects.filter(enrollment=enrollment_other)\n",
    "\n",
    "for submission in other_submissions:\n",
    "    submission.student = user_main\n",
    "    submission.enrollment = enrollment_main\n",
    "    submission.save()\n",
    "\n",
    "    print(f'updated {submission.id}')"
   ]
  },
  {
   "cell_type": "code",
   "execution_count": 18,
   "id": "0dc53fe0-f922-4936-9e27-ff4d30b56d2e",
   "metadata": {},
   "outputs": [],
   "source": []
  },
  {
   "cell_type": "code",
   "execution_count": null,
   "id": "416b6e84-5ae1-418d-a5ef-fc1a08f2b1d6",
   "metadata": {},
   "outputs": [],
   "source": []
  }
 ],
 "metadata": {
  "kernelspec": {
   "display_name": "Python 3 (ipykernel)",
   "language": "python",
   "name": "python3"
  },
  "language_info": {
   "codemirror_mode": {
    "name": "ipython",
    "version": 3
   },
   "file_extension": ".py",
   "mimetype": "text/x-python",
   "name": "python",
   "nbconvert_exporter": "python",
   "pygments_lexer": "ipython3",
   "version": "3.9.13"
  }
 },
 "nbformat": 4,
 "nbformat_minor": 5
}
