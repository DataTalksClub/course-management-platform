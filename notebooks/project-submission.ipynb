{
 "cells": [
  {
   "cell_type": "code",
   "execution_count": 1,
   "id": "f78701db",
   "metadata": {},
   "outputs": [
    {
     "name": "stdout",
     "output_type": "stream",
     "text": [
      "IS_LOCAL=True\n",
      "['C:\\\\Users\\\\alexe\\\\git\\\\course-management-platform\\\\.venv\\\\lib\\\\site-packages\\\\ipykernel_launcher.py', '-f', 'C:\\\\Users\\\\alexe\\\\AppData\\\\Roaming\\\\jupyter\\\\runtime\\\\kernel-b41fb298-c4f0-4d8a-9ccd-469bacae0dda.json']\n",
      "Is test: False\n"
     ]
    }
   ],
   "source": [
    "import os\n",
    "os.chdir('..')\n",
    "\n",
    "os.environ[\"DJANGO_SETTINGS_MODULE\"] = \"course_management.settings\"\n",
    "os.environ[\"DJANGO_ALLOW_ASYNC_UNSAFE\"] = \"true\"\n",
    "os.environ[\"IS_LOCAL\"] = \"1\"\n",
    "\n",
    "import django\n",
    "django.setup()"
   ]
  },
  {
   "cell_type": "code",
   "execution_count": 2,
   "id": "c7af9387-0c73-4b6d-a0db-e49bee7237fd",
   "metadata": {},
   "outputs": [],
   "source": [
    "from courses.models import *"
   ]
  },
  {
   "cell_type": "code",
   "execution_count": 6,
   "id": "bfc4ba99-14bc-44ec-8a23-d3d3b4b0c3cd",
   "metadata": {},
   "outputs": [],
   "source": [
    "pr = PeerReview.objects.get(id=1748)"
   ]
  },
  {
   "cell_type": "code",
   "execution_count": 10,
   "id": "588d0dfb-cfb2-4108-8d9c-668e30e1f4d8",
   "metadata": {},
   "outputs": [],
   "source": [
    "submission = pr.submission_under_evaluation"
   ]
  },
  {
   "cell_type": "code",
   "execution_count": 13,
   "id": "29f3a207-e75c-4954-aba5-9d1dd7d55c26",
   "metadata": {},
   "outputs": [
    {
     "data": {
      "text/plain": [
       "''"
      ]
     },
     "execution_count": 13,
     "metadata": {},
     "output_type": "execute_result"
    }
   ],
   "source": [
    "submission.github_link"
   ]
  },
  {
   "cell_type": "code",
   "execution_count": 14,
   "id": "0cd2cefe-dc45-4aca-aa7b-fe12dc706b49",
   "metadata": {},
   "outputs": [
    {
     "data": {
      "text/plain": [
       "''"
      ]
     },
     "execution_count": 14,
     "metadata": {},
     "output_type": "execute_result"
    }
   ],
   "source": [
    "submission.commit_id"
   ]
  },
  {
   "cell_type": "code",
   "execution_count": 18,
   "id": "8ca3af64-deb0-41cf-ab9f-61d8babd4cfd",
   "metadata": {},
   "outputs": [],
   "source": [
    "submission.learning_in_public_links"
   ]
  },
  {
   "cell_type": "code",
   "execution_count": null,
   "id": "8da09f96-b0c3-446b-9c45-daf0d0cea267",
   "metadata": {},
   "outputs": [],
   "source": []
  }
 ],
 "metadata": {
  "kernelspec": {
   "display_name": "Python 3 (ipykernel)",
   "language": "python",
   "name": "python3"
  },
  "language_info": {
   "codemirror_mode": {
    "name": "ipython",
    "version": 3
   },
   "file_extension": ".py",
   "mimetype": "text/x-python",
   "name": "python",
   "nbconvert_exporter": "python",
   "pygments_lexer": "ipython3",
   "version": "3.9.13"
  }
 },
 "nbformat": 4,
 "nbformat_minor": 5
}
