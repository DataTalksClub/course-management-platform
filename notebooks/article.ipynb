{
 "cells": [
  {
   "cell_type": "code",
   "execution_count": 1,
   "id": "f78701db",
   "metadata": {},
   "outputs": [
    {
     "name": "stdout",
     "output_type": "stream",
     "text": [
      "IS_LOCAL=True\n",
      "['C:\\\\Users\\\\alexe\\\\.virtualenvs\\\\course-management-platform-wiAsnpQu\\\\Lib\\\\site-packages\\\\ipykernel_launcher.py', '-f', 'C:\\\\Users\\\\alexe\\\\AppData\\\\Roaming\\\\jupyter\\\\runtime\\\\kernel-8b131781-a55c-45fb-b820-d523bc533a5e.json']\n",
      "Is test: False\n"
     ]
    }
   ],
   "source": [
    "import os\n",
    "os.chdir('..')\n",
    "\n",
    "os.environ[\"DJANGO_SETTINGS_MODULE\"] = \"course_management.settings\"\n",
    "os.environ[\"DJANGO_ALLOW_ASYNC_UNSAFE\"] = \"true\"\n",
    "os.environ[\"IS_LOCAL\"] = \"1\"\n",
    "\n",
    "import django\n",
    "django.setup()"
   ]
  },
  {
   "cell_type": "code",
   "execution_count": 2,
   "id": "c7af9387-0c73-4b6d-a0db-e49bee7237fd",
   "metadata": {},
   "outputs": [],
   "source": [
    "from courses.models import *"
   ]
  },
  {
   "cell_type": "code",
   "execution_count": 3,
   "id": "aa44061b-93db-4f05-82a6-ae95162d719d",
   "metadata": {},
   "outputs": [],
   "source": [
    "from courses.scoring import update_faq_score, update_learning_in_public_score, update_leaderboard"
   ]
  },
  {
   "cell_type": "code",
   "execution_count": 4,
   "id": "92947775-47c5-4327-84df-b3f770482663",
   "metadata": {},
   "outputs": [],
   "source": [
    "from django.db.models import Prefetch"
   ]
  },
  {
   "cell_type": "code",
   "execution_count": 5,
   "id": "32181e4e-d2f6-453f-8c3f-5165d60dc9cd",
   "metadata": {},
   "outputs": [
    {
     "data": {
      "text/plain": [
       "<Course: Machine Learning Zoomcamp 2024>"
      ]
     },
     "execution_count": 5,
     "metadata": {},
     "output_type": "execute_result"
    }
   ],
   "source": [
    "course = Course.objects.get(id=5)\n",
    "course"
   ]
  },
  {
   "cell_type": "code",
   "execution_count": 6,
   "id": "bf067f4c-6a96-4676-8792-3a4c5502a4a8",
   "metadata": {},
   "outputs": [
    {
     "data": {
      "text/plain": [
       "<Homework: Machine Learning Zoomcamp 2024 - Article>"
      ]
     },
     "execution_count": 6,
     "metadata": {},
     "output_type": "execute_result"
    }
   ],
   "source": [
    "homework = Homework.objects.get(course=course, slug='article')\n",
    "homework"
   ]
  },
  {
   "cell_type": "code",
   "execution_count": 7,
   "id": "2477d14d-b0bf-4cd8-aa95-4a2f78512845",
   "metadata": {},
   "outputs": [],
   "source": [
    "answers_prefetch = Prefetch(\"answer_set\", queryset=Answer.objects.all())"
   ]
  },
  {
   "cell_type": "code",
   "execution_count": 8,
   "id": "8981e4d1-c009-4c8c-aff7-ce8a32d484b0",
   "metadata": {},
   "outputs": [],
   "source": [
    "submissions = Submission.objects.prefetch_related(answers_prefetch).filter(homework=homework)"
   ]
  },
  {
   "cell_type": "code",
   "execution_count": 25,
   "id": "59e2170e-14bf-4c1f-9e43-78d26e1c6193",
   "metadata": {
    "scrolled": true
   },
   "outputs": [
    {
     "name": "stdout",
     "output_type": "stream",
     "text": [
      "13371\n",
      "[{'id': 74388, 'question_id': 201, 'answer_text': 'https://medium.com/@edosomapatrick41/beware-of-the-accuracy-trap-4785d07cdd8a'}]\n",
      "\n"
     ]
    }
   ],
   "source": [
    "for s in submissions:\n",
    "    print(s.id) #, s.student)\n",
    "    \n",
    "    answers = list(s.answer_set.values(\"id\", \"question_id\", \"answer_text\"))\n",
    "    print(answers)\n",
    "\n",
    "    print(s.homework_link)\n",
    "    break"
   ]
  },
  {
   "cell_type": "markdown",
   "id": "aec3819d-65ff-4247-a945-e403ea45e3e4",
   "metadata": {},
   "source": [
    "## Custom logic"
   ]
  },
  {
   "cell_type": "code",
   "execution_count": 19,
   "id": "277c5c6f-06ea-44d0-bd92-21551101e9ef",
   "metadata": {},
   "outputs": [
    {
     "name": "stdout",
     "output_type": "stream",
     "text": [
      "13371 https://medium.com/@edosomapatrick41/beware-of-the-accuracy-trap-4785d07cdd8a\n",
      "13376 https://github.com/DataTalksClub/machine-learning-zoomcamp/blob/master/cohorts/2024/01-intro/homework.md\n",
      "14638 https://medium.com/@ket14pril14/top-machine-learning-optimization-algorithms-9063447198a1\n",
      "15381 https://medium.com/@markus_datadude/lightgbm-vs-catboost-vs-xgboost-the-ultimate-guide-to-faster-and-smarter-machine-learning-1a7f399d4c4f\n",
      "15370 https://github.com/3d150n-marc3l0/ml-zoomcamp/blob/main/article/articule.md\n",
      "16291 https://bankymondial.github.io/Beyond-Model-Selection/\n",
      "13369 https://markogolovko.com/blog/you-will-like-my-offer/\n",
      "15663 https://github.com/yann-pham-van/DataEngineeringZoomcamp/blob/main/kestra_data_warehouse_dlt_chatgpt.md\n",
      "14982 https://github.com/MarDom15/Publication_paper/blob/main/Dimensionality%20Reduction%20in%20Machine%20Learning_A%20Comprehensive%20Analysis%20of%20Techniques%20and%20Applications_/paperdata_zoomcamp.pdf\n",
      "15442 https://github.com/adikusum4/Machine-Learning-zoomcamp/blob/main/14-article/article-optuna.md\n",
      "15390 https://volcano-camp-325.notion.site/Natural-Language-Processing-using-spaCy-TensorFlow-and-BERT-model-architecture-1895067176b380d09484d4b0338b0c5e?pvs=4\n",
      "15458 https://medium.com/@siddharthagogoi_73598/k-nearest-neighbors-the-timeless-algorithm-that-thinks-like-a-human-cbc92e1665ff\n",
      "15711 https://medium.com/@aarongebremariam.94/unlocking-the-power-of-feature-engineering-in-machine-learning-556ddbc933db\n",
      "15481 https://medium.com/@till.meineke/setting-up-the-environments-for-ml-zoomcamp-2024-eceb6e42e36e\n",
      "16011 https://github.com/nevinpolat/ml-article\n",
      "15552 https://github.com/subair99/ML_Zoomcamp_2024_Modules/blob/main/ML_Zoomcamp_2024_Article/Article.md\n",
      "15854 https://github.com/dmytrovoytko/ml-sentiment-analysis-lstm/blob/main/sentiment_analysis_subjectivity_positivity.ipynb\n"
     ]
    }
   ],
   "source": [
    "for s in submissions:\n",
    "    answers_raw = list(s.answer_set.all())\n",
    "    answers = {d.question_id: d for d in answers_raw}\n",
    "\n",
    "    answer_url = answers[201]\n",
    "    url = answer_url.answer_text\n",
    "    url2 = s.homework_link\n",
    "\n",
    "    url = url2 or url\n",
    "\n",
    "    print(s.id, url)"
   ]
  },
  {
   "cell_type": "code",
   "execution_count": 21,
   "id": "2b42c814-b41d-41f8-a019-497ea24d121a",
   "metadata": {},
   "outputs": [],
   "source": [
    "invalid = {13376, 15663, }"
   ]
  },
  {
   "cell_type": "code",
   "execution_count": 22,
   "id": "6d047f07-588a-4488-a6c2-77db9fa4eaa6",
   "metadata": {},
   "outputs": [
    {
     "name": "stdout",
     "output_type": "stream",
     "text": [
      "13371\n",
      "13376\n",
      "14638\n",
      "15381\n",
      "15370\n",
      "16291\n",
      "13369\n",
      "15663\n",
      "14982\n",
      "15442\n",
      "15390\n",
      "15458\n",
      "15711\n",
      "15481\n",
      "16011\n",
      "15552\n",
      "15854\n"
     ]
    }
   ],
   "source": [
    "for s in submissions:\n",
    "    print(s.id)\n",
    "    \n",
    "    answers_raw = list(s.answer_set.all())\n",
    "\n",
    "    points = 20\n",
    "    if s.id in invalid:\n",
    "        points = 0\n",
    "\n",
    "    s.questions_score = points\n",
    "\n",
    "    lip_score = update_learning_in_public_score(s)\n",
    "    faq_score = update_faq_score(s)\n",
    "    \n",
    "    s.total_score = points + lip_score + faq_score\n",
    "    s.save()"
   ]
  },
  {
   "cell_type": "code",
   "execution_count": 23,
   "id": "7c739643-abdf-4c05-a6c9-3b394f3ff58b",
   "metadata": {},
   "outputs": [],
   "source": [
    "homework.state = HomeworkState.SCORED.value\n",
    "homework.save()"
   ]
  },
  {
   "cell_type": "code",
   "execution_count": 24,
   "id": "8db5734f-d499-4758-8be7-1f5155cc7840",
   "metadata": {},
   "outputs": [
    {
     "name": "stderr",
     "output_type": "stream",
     "text": [
      "INFO Updating leaderboard for course 5\n",
      "INFO Updated leaderboard in 1.66 seconds\n"
     ]
    }
   ],
   "source": [
    "update_leaderboard(course)"
   ]
  },
  {
   "cell_type": "code",
   "execution_count": null,
   "id": "832b833b-be10-426c-b288-c08a1fa6d2e6",
   "metadata": {},
   "outputs": [],
   "source": []
  }
 ],
 "metadata": {
  "kernelspec": {
   "display_name": "Python 3 (ipykernel)",
   "language": "python",
   "name": "python3"
  },
  "language_info": {
   "codemirror_mode": {
    "name": "ipython",
    "version": 3
   },
   "file_extension": ".py",
   "mimetype": "text/x-python",
   "name": "python",
   "nbconvert_exporter": "python",
   "pygments_lexer": "ipython3",
   "version": "3.12.3"
  }
 },
 "nbformat": 4,
 "nbformat_minor": 5
}
