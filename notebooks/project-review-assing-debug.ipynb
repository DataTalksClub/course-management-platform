{
 "cells": [
  {
   "cell_type": "code",
   "execution_count": 1,
   "id": "f78701db",
   "metadata": {},
   "outputs": [
    {
     "name": "stdout",
     "output_type": "stream",
     "text": [
      "IS_LOCAL=True\n",
      "['C:\\\\Users\\\\alexe\\\\git\\\\course-management-platform\\\\.venv\\\\lib\\\\site-packages\\\\ipykernel_launcher.py', '-f', 'C:\\\\Users\\\\alexe\\\\AppData\\\\Roaming\\\\jupyter\\\\runtime\\\\kernel-8af9167b-5068-4de3-afda-4fce0295d2e8.json']\n",
      "Is test: False\n"
     ]
    }
   ],
   "source": [
    "import os\n",
    "os.chdir('..')\n",
    "\n",
    "os.environ[\"DJANGO_SETTINGS_MODULE\"] = \"course_management.settings\"\n",
    "os.environ[\"DJANGO_ALLOW_ASYNC_UNSAFE\"] = \"true\"\n",
    "os.environ[\"IS_LOCAL\"] = \"1\"\n",
    "\n",
    "import django\n",
    "django.setup()"
   ]
  },
  {
   "cell_type": "code",
   "execution_count": 2,
   "id": "c7af9387-0c73-4b6d-a0db-e49bee7237fd",
   "metadata": {},
   "outputs": [],
   "source": [
    "from courses.models import *"
   ]
  },
  {
   "cell_type": "code",
   "execution_count": 4,
   "id": "c3a60ba4-939f-459b-b7be-2d495f010361",
   "metadata": {},
   "outputs": [],
   "source": [
    "admin = User.objects.all()[0]"
   ]
  },
  {
   "cell_type": "code",
   "execution_count": 14,
   "id": "4e5f9d7c-8f33-49a5-b665-fc15c4fd2bc9",
   "metadata": {},
   "outputs": [],
   "source": [
    "sub = ProjectSubmission.objects.get(student=admin, project__slug='fake-project')"
   ]
  },
  {
   "cell_type": "code",
   "execution_count": 15,
   "id": "3af95196-5fab-4e49-b131-84695b24e982",
   "metadata": {},
   "outputs": [
    {
     "data": {
      "text/plain": [
       "<ProjectSubmission: project submission for enrollment 1>"
      ]
     },
     "execution_count": 15,
     "metadata": {},
     "output_type": "execute_result"
    }
   ],
   "source": [
    "sub"
   ]
  },
  {
   "cell_type": "code",
   "execution_count": 12,
   "id": "47c2fd09-92a5-41a3-a812-b673294a5e77",
   "metadata": {},
   "outputs": [
    {
     "data": {
      "text/plain": [
       "(1, {'courses.ProjectSubmission': 1})"
      ]
     },
     "execution_count": 12,
     "metadata": {},
     "output_type": "execute_result"
    }
   ],
   "source": [
    "sub.delete()"
   ]
  },
  {
   "cell_type": "code",
   "execution_count": null,
   "id": "6c901d07-47c5-41fd-b7d0-93843db38e7c",
   "metadata": {},
   "outputs": [],
   "source": []
  }
 ],
 "metadata": {
  "kernelspec": {
   "display_name": "Python 3 (ipykernel)",
   "language": "python",
   "name": "python3"
  },
  "language_info": {
   "codemirror_mode": {
    "name": "ipython",
    "version": 3
   },
   "file_extension": ".py",
   "mimetype": "text/x-python",
   "name": "python",
   "nbconvert_exporter": "python",
   "pygments_lexer": "ipython3",
   "version": "3.9.13"
  }
 },
 "nbformat": 4,
 "nbformat_minor": 5
}
