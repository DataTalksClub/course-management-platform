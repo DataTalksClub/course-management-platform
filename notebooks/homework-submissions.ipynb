{
 "cells": [
  {
   "cell_type": "code",
   "execution_count": 1,
   "id": "f78701db",
   "metadata": {},
   "outputs": [
    {
     "name": "stdout",
     "output_type": "stream",
     "text": [
      "IS_LOCAL=True\n",
      "['C:\\\\Users\\\\alexe\\\\.virtualenvs\\\\course-management-platform-wiAsnpQu\\\\lib\\\\site-packages\\\\ipykernel_launcher.py', '-f', 'C:\\\\Users\\\\alexe\\\\AppData\\\\Roaming\\\\jupyter\\\\runtime\\\\kernel-22d8d1bb-f493-43ed-bc35-e95984184603.json']\n",
      "Is test: False\n"
     ]
    }
   ],
   "source": [
    "import os\n",
    "os.chdir('..')\n",
    "\n",
    "os.environ[\"DJANGO_SETTINGS_MODULE\"] = \"course_management.settings\"\n",
    "os.environ[\"DJANGO_ALLOW_ASYNC_UNSAFE\"] = \"true\"\n",
    "os.environ[\"IS_LOCAL\"] = \"1\"\n",
    "\n",
    "import django\n",
    "django.setup()"
   ]
  },
  {
   "cell_type": "code",
   "execution_count": 2,
   "id": "c7af9387-0c73-4b6d-a0db-e49bee7237fd",
   "metadata": {},
   "outputs": [],
   "source": [
    "from courses.models import *"
   ]
  },
  {
   "cell_type": "code",
   "execution_count": 3,
   "id": "bfc4ba99-14bc-44ec-8a23-d3d3b4b0c3cd",
   "metadata": {},
   "outputs": [],
   "source": [
    "course = Course.objects.get(id=1)"
   ]
  },
  {
   "cell_type": "code",
   "execution_count": 4,
   "id": "bf067f4c-6a96-4676-8792-3a4c5502a4a8",
   "metadata": {},
   "outputs": [],
   "source": [
    "homework = Homework.objects.get(course=course, slug='workshop2')"
   ]
  },
  {
   "cell_type": "code",
   "execution_count": 6,
   "id": "013370ef-225e-4794-9718-6d6027c667e6",
   "metadata": {},
   "outputs": [
    {
     "data": {
      "text/plain": [
       "<Homework: Data Engineering Zoomcamp 2024 - Workshop 2: Streaming with SQL>"
      ]
     },
     "execution_count": 6,
     "metadata": {},
     "output_type": "execute_result"
    }
   ],
   "source": [
    "homework"
   ]
  },
  {
   "cell_type": "code",
   "execution_count": 8,
   "id": "8981e4d1-c009-4c8c-aff7-ce8a32d484b0",
   "metadata": {},
   "outputs": [],
   "source": [
    "submissions = Submission.objects.filter(homework=homework)"
   ]
  },
  {
   "cell_type": "code",
   "execution_count": 7,
   "id": "b4e736aa-2a56-4468-aff7-39ced73e2572",
   "metadata": {},
   "outputs": [],
   "source": [
    "import csv"
   ]
  },
  {
   "cell_type": "code",
   "execution_count": 10,
   "id": "ff156a5b-9d1b-4d17-b0c1-44696e64c25b",
   "metadata": {},
   "outputs": [],
   "source": [
    "path = 'workshop2-students.csv'"
   ]
  },
  {
   "cell_type": "code",
   "execution_count": 11,
   "id": "4ef7d745-e030-4ca1-924f-3fa6ad8dc2e2",
   "metadata": {},
   "outputs": [],
   "source": [
    "s = submissions[0]\n",
    "\n",
    "s.student.email\n",
    "s.problems_comments\n",
    "s.time_spent_lectures\n",
    "s.time_spent_homework"
   ]
  },
  {
   "cell_type": "code",
   "execution_count": 18,
   "id": "79efd775-71b3-4a20-bc3e-4c677db55e83",
   "metadata": {},
   "outputs": [],
   "source": [
    "submissions_dict = [\n",
    "    {\n",
    "        'student_email': s.student.email,\n",
    "        'problems_comments': s.problems_comments,\n",
    "        'time_spent_lectures': s.time_spent_lectures,\n",
    "        'time_spent_homework': s.time_spent_homework\n",
    "    }\n",
    "    for s in submissions\n",
    "]"
   ]
  },
  {
   "cell_type": "code",
   "execution_count": 19,
   "id": "6758899b-31e5-479b-bf03-be9be03d439b",
   "metadata": {},
   "outputs": [],
   "source": [
    "import pandas as pd"
   ]
  },
  {
   "cell_type": "code",
   "execution_count": 21,
   "id": "0805b6e0-d4b5-4b0e-aae6-78a0471b3a3c",
   "metadata": {},
   "outputs": [],
   "source": [
    "df = pd.DataFrame(submissions_dict)"
   ]
  },
  {
   "cell_type": "code",
   "execution_count": 22,
   "id": "e06431a9-54b9-40cd-99b4-7019f4cde13c",
   "metadata": {},
   "outputs": [],
   "source": [
    "df.to_csv('workshop2-submissions.csv', index=False)"
   ]
  },
  {
   "cell_type": "code",
   "execution_count": 23,
   "id": "52330fa5-addf-473d-ae0a-b3699145125c",
   "metadata": {},
   "outputs": [
    {
     "name": "stdout",
     "output_type": "stream",
     "text": [
      "student_email,problems_comments,time_spent_lectures,time_spent_homework\n",
      "sebastianperalta@hotmail.com,,1.0,4.0\n",
      "ighorr.holstrom@gmail.com,,,\n",
      "ram_idts@me.com,,,\n",
      "david@loka.com,,2.0,4.0\n",
      "michal.kepczynski@gmail.com,,1.5,4.0\n",
      "nekrre@gmail.com,,2.0,1.0\n",
      "goncalo.dumiense@gmail.com,,1.0,1.0\n",
      "fredericopreto@gmail.com,,2.0,1.0\n",
      "emadyaraie@gmail.com,,,\n"
     ]
    }
   ],
   "source": [
    "!head workshop2-submissions.csv"
   ]
  },
  {
   "cell_type": "code",
   "execution_count": null,
   "id": "59e2170e-14bf-4c1f-9e43-78d26e1c6193",
   "metadata": {},
   "outputs": [],
   "source": []
  }
 ],
 "metadata": {
  "kernelspec": {
   "display_name": "Python 3 (ipykernel)",
   "language": "python",
   "name": "python3"
  },
  "language_info": {
   "codemirror_mode": {
    "name": "ipython",
    "version": 3
   },
   "file_extension": ".py",
   "mimetype": "text/x-python",
   "name": "python",
   "nbconvert_exporter": "python",
   "pygments_lexer": "ipython3",
   "version": "3.9.13"
  }
 },
 "nbformat": 4,
 "nbformat_minor": 5
}
