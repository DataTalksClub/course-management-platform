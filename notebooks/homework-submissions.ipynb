{
 "cells": [
  {
   "cell_type": "code",
   "execution_count": 1,
   "id": "f78701db",
   "metadata": {},
   "outputs": [
    {
     "name": "stdout",
     "output_type": "stream",
     "text": [
      "IS_LOCAL=True\n",
      "['C:\\\\Users\\\\alexe\\\\.virtualenvs\\\\course-management-platform-wiAsnpQu\\\\Lib\\\\site-packages\\\\ipykernel_launcher.py', '-f', 'C:\\\\Users\\\\alexe\\\\AppData\\\\Roaming\\\\jupyter\\\\runtime\\\\kernel-1dc6ab01-664c-4850-b4d6-370532d03de1.json']\n",
      "Is test: False\n"
     ]
    }
   ],
   "source": [
    "import os\n",
    "os.chdir('..')\n",
    "\n",
    "os.environ[\"DJANGO_SETTINGS_MODULE\"] = \"course_management.settings\"\n",
    "os.environ[\"DJANGO_ALLOW_ASYNC_UNSAFE\"] = \"true\"\n",
    "os.environ[\"IS_LOCAL\"] = \"1\"\n",
    "\n",
    "import django\n",
    "django.setup()"
   ]
  },
  {
   "cell_type": "code",
   "execution_count": 2,
   "id": "c7af9387-0c73-4b6d-a0db-e49bee7237fd",
   "metadata": {},
   "outputs": [],
   "source": [
    "from courses.models import *"
   ]
  },
  {
   "cell_type": "code",
   "execution_count": 5,
   "id": "bfc4ba99-14bc-44ec-8a23-d3d3b4b0c3cd",
   "metadata": {},
   "outputs": [
    {
     "data": {
      "text/plain": [
       "<Course: Data Engineering Zoomcamp 2025>"
      ]
     },
     "execution_count": 5,
     "metadata": {},
     "output_type": "execute_result"
    }
   ],
   "source": [
    "course = Course.objects.get(id=6)\n",
    "course"
   ]
  },
  {
   "cell_type": "code",
   "execution_count": 6,
   "id": "bf067f4c-6a96-4676-8792-3a4c5502a4a8",
   "metadata": {},
   "outputs": [],
   "source": [
    "homework = Homework.objects.get(course=course, slug='hw1')"
   ]
  },
  {
   "cell_type": "code",
   "execution_count": 7,
   "id": "013370ef-225e-4794-9718-6d6027c667e6",
   "metadata": {},
   "outputs": [
    {
     "data": {
      "text/plain": [
       "<Homework: Data Engineering Zoomcamp 2025 - Homework 1: Docker, SQL and Terraform>"
      ]
     },
     "execution_count": 7,
     "metadata": {},
     "output_type": "execute_result"
    }
   ],
   "source": [
    "homework"
   ]
  },
  {
   "cell_type": "code",
   "execution_count": 8,
   "id": "8981e4d1-c009-4c8c-aff7-ce8a32d484b0",
   "metadata": {},
   "outputs": [],
   "source": [
    "submissions = Submission.objects.filter(homework=homework)"
   ]
  },
  {
   "cell_type": "code",
   "execution_count": 20,
   "id": "c2ad55a4-e7b3-4747-aba0-2908b939bd34",
   "metadata": {},
   "outputs": [],
   "source": [
    "answers = Answer.objects.filter(submission__in=submissions)"
   ]
  },
  {
   "cell_type": "code",
   "execution_count": 25,
   "id": "af1d87ba-99ee-4860-80db-dedf049051d4",
   "metadata": {},
   "outputs": [
    {
     "data": {
      "text/plain": [
       "7693"
      ]
     },
     "execution_count": 25,
     "metadata": {},
     "output_type": "execute_result"
    }
   ],
   "source": [
    "len(answers)"
   ]
  },
  {
   "cell_type": "code",
   "execution_count": 38,
   "id": "7e78ad09-6033-48cb-9419-a2291968ae62",
   "metadata": {},
   "outputs": [],
   "source": [
    "errors = []\n",
    "\n",
    "for a in answers:\n",
    "    answer_text = a.answer_text \n",
    "    if not answer_text:\n",
    "        continue\n",
    "    try:\n",
    "        int(answer_text)\n",
    "    except:\n",
    "        errors.append(a)"
   ]
  },
  {
   "cell_type": "code",
   "execution_count": 36,
   "id": "85998432-7830-4628-ac4d-b805ae40c886",
   "metadata": {},
   "outputs": [],
   "source": [
    "errors[0].answer_text = '4'\n",
    "errors[0].save()"
   ]
  },
  {
   "cell_type": "code",
   "execution_count": 37,
   "id": "5554bf46-5277-4856-b090-315e27f58f49",
   "metadata": {},
   "outputs": [],
   "source": [
    "errors[1].answer_text = '4'\n",
    "errors[1].save()"
   ]
  },
  {
   "cell_type": "code",
   "execution_count": null,
   "id": "1124c3f9-e380-4a11-925a-640ccf05f7db",
   "metadata": {},
   "outputs": [],
   "source": []
  }
 ],
 "metadata": {
  "kernelspec": {
   "display_name": "Python 3 (ipykernel)",
   "language": "python",
   "name": "python3"
  },
  "language_info": {
   "codemirror_mode": {
    "name": "ipython",
    "version": 3
   },
   "file_extension": ".py",
   "mimetype": "text/x-python",
   "name": "python",
   "nbconvert_exporter": "python",
   "pygments_lexer": "ipython3",
   "version": "3.12.3"
  }
 },
 "nbformat": 4,
 "nbformat_minor": 5
}
