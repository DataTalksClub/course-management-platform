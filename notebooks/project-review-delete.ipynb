{
 "cells": [
  {
   "cell_type": "code",
   "execution_count": 1,
   "id": "f78701db",
   "metadata": {},
   "outputs": [
    {
     "name": "stdout",
     "output_type": "stream",
     "text": [
      "IS_LOCAL=True\n",
      "['C:\\\\Users\\\\alexe\\\\git\\\\course-management-platform\\\\.venv\\\\lib\\\\site-packages\\\\ipykernel_launcher.py', '-f', 'C:\\\\Users\\\\alexe\\\\AppData\\\\Roaming\\\\jupyter\\\\runtime\\\\kernel-d5d3620b-fc91-4661-a648-5cb9f015fb9a.json']\n",
      "Is test: False\n"
     ]
    }
   ],
   "source": [
    "import os\n",
    "os.chdir('..')\n",
    "\n",
    "os.environ[\"DJANGO_SETTINGS_MODULE\"] = \"course_management.settings\"\n",
    "os.environ[\"DJANGO_ALLOW_ASYNC_UNSAFE\"] = \"true\"\n",
    "os.environ[\"IS_LOCAL\"] = \"1\"\n",
    "\n",
    "import django\n",
    "django.setup()"
   ]
  },
  {
   "cell_type": "code",
   "execution_count": 2,
   "id": "c7af9387-0c73-4b6d-a0db-e49bee7237fd",
   "metadata": {},
   "outputs": [],
   "source": [
    "from courses.models import *"
   ]
  },
  {
   "cell_type": "code",
   "execution_count": 5,
   "id": "36039243-82e6-4c89-bdbe-e5120a8fac98",
   "metadata": {},
   "outputs": [],
   "source": [
    "project = Project.objects.get(id=9)"
   ]
  },
  {
   "cell_type": "code",
   "execution_count": 6,
   "id": "271342ba-a36d-4623-8d61-1424eb8efb99",
   "metadata": {},
   "outputs": [],
   "source": [
    "reviews = PeerReview.objects.filter(submission_under_evaluation__project=project)"
   ]
  },
  {
   "cell_type": "code",
   "execution_count": 9,
   "id": "a40e69c5-c11c-4a45-8f69-fcc58c450ad4",
   "metadata": {},
   "outputs": [
    {
     "data": {
      "text/plain": [
       "(577, {'courses.PeerReview': 577})"
      ]
     },
     "execution_count": 9,
     "metadata": {},
     "output_type": "execute_result"
    }
   ],
   "source": [
    "reviews.delete()"
   ]
  },
  {
   "cell_type": "code",
   "execution_count": 10,
   "id": "6c901d07-47c5-41fd-b7d0-93843db38e7c",
   "metadata": {},
   "outputs": [
    {
     "data": {
      "text/plain": [
       "0"
      ]
     },
     "execution_count": 10,
     "metadata": {},
     "output_type": "execute_result"
    }
   ],
   "source": [
    "len(reviews)"
   ]
  },
  {
   "cell_type": "code",
   "execution_count": null,
   "id": "6ba3e481-ac95-4376-b67f-3920bb8a9210",
   "metadata": {},
   "outputs": [],
   "source": []
  }
 ],
 "metadata": {
  "kernelspec": {
   "display_name": "Python 3 (ipykernel)",
   "language": "python",
   "name": "python3"
  },
  "language_info": {
   "codemirror_mode": {
    "name": "ipython",
    "version": 3
   },
   "file_extension": ".py",
   "mimetype": "text/x-python",
   "name": "python",
   "nbconvert_exporter": "python",
   "pygments_lexer": "ipython3",
   "version": "3.9.13"
  }
 },
 "nbformat": 4,
 "nbformat_minor": 5
}
