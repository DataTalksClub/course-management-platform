{
 "cells": [
  {
   "cell_type": "code",
   "execution_count": 1,
   "id": "f78701db",
   "metadata": {},
   "outputs": [
    {
     "name": "stdout",
     "output_type": "stream",
     "text": [
      "IS_LOCAL=True\n",
      "['C:\\\\Users\\\\alexe\\\\.virtualenvs\\\\course-management-platform-wiAsnpQu\\\\lib\\\\site-packages\\\\ipykernel_launcher.py', '-f', 'C:\\\\Users\\\\alexe\\\\AppData\\\\Roaming\\\\jupyter\\\\runtime\\\\kernel-8469f5ab-c582-4ff2-ad72-e3d21f72e3e4.json']\n",
      "Is test: False\n"
     ]
    }
   ],
   "source": [
    "import os\n",
    "os.chdir('..')\n",
    "\n",
    "os.environ[\"DJANGO_SETTINGS_MODULE\"] = \"course_management.settings\"\n",
    "os.environ[\"DJANGO_ALLOW_ASYNC_UNSAFE\"] = \"true\"\n",
    "os.environ[\"IS_LOCAL\"] = \"1\"\n",
    "\n",
    "import django\n",
    "django.setup()"
   ]
  },
  {
   "cell_type": "code",
   "execution_count": 4,
   "id": "84cdd741-3586-4cc6-9dc3-7ee2dfe04486",
   "metadata": {},
   "outputs": [],
   "source": [
    "from courses.models import (\n",
    "    Course,\n",
    "    Enrollment,\n",
    "    Submission,\n",
    "    Project,\n",
    "    ProjectSubmission,\n",
    ")"
   ]
  },
  {
   "cell_type": "code",
   "execution_count": 50,
   "id": "d2004021-8457-4844-9dda-cdb57540d60d",
   "metadata": {},
   "outputs": [],
   "source": [
    "from hashlib import sha1\n",
    "\n",
    "def compute_hash(email):\n",
    "    return sha1(email.lower().encode('utf-8')).hexdigest()"
   ]
  },
  {
   "cell_type": "code",
   "execution_count": 6,
   "id": "4a112b85-78e8-4830-9db8-661b838f7cbf",
   "metadata": {},
   "outputs": [],
   "source": [
    "course = Course.objects.get(id=1"
   ]
  },
  {
   "cell_type": "code",
   "execution_count": 11,
   "id": "74765b50-ab56-439a-9cd8-aa0f23c9d231",
   "metadata": {},
   "outputs": [
    {
     "data": {
      "text/plain": [
       "1287"
      ]
     },
     "execution_count": 11,
     "metadata": {},
     "output_type": "execute_result"
    }
   ],
   "source": [
    "enrollments = Enrollment.objects.filter(course=course)\n",
    "enrollments.count()"
   ]
  },
  {
   "cell_type": "code",
   "execution_count": 12,
   "id": "7856ec6d-c95e-4e2d-abca-e15a896e929e",
   "metadata": {},
   "outputs": [],
   "source": [
    "submissions = Submission.objects.filter(enrollment__course=course)"
   ]
  },
  {
   "cell_type": "code",
   "execution_count": 36,
   "id": "fb46e05e-9454-4946-ba79-655ddbf99a02",
   "metadata": {},
   "outputs": [],
   "source": [
    "values = submissions.values(\n",
    "    'student__email',\n",
    "    'homework__title',\n",
    "    'time_spent_lectures',\n",
    "    'time_spent_homework'\n",
    ")"
   ]
  },
  {
   "cell_type": "code",
   "execution_count": 38,
   "id": "da7e2893-7aad-4c82-8223-495ef4d69f0c",
   "metadata": {},
   "outputs": [],
   "source": [
    "from csv import DictWriter"
   ]
  },
  {
   "cell_type": "code",
   "execution_count": 54,
   "id": "0abfd3f2-6381-4d00-a89f-3b9d64ee0ff3",
   "metadata": {},
   "outputs": [],
   "source": [
    "csv_file = open('../zoomcamp-analytics/data/de-zoomcamp-2024/homeworks.csv', 'wt')\n",
    "\n",
    "columns = ['email', 'homework', 'time_homework', 'time_lectures']\n",
    "\n",
    "writer = DictWriter(csv_file, columns)\n",
    "writer.writeheader()"
   ]
  },
  {
   "cell_type": "code",
   "execution_count": 56,
   "id": "4a5a60c0-54ad-4769-88f2-255692695d62",
   "metadata": {},
   "outputs": [],
   "source": [
    "for v in values:\n",
    "    res = {}\n",
    "    res['email'] = compute_hash(v['student__email'] + '_salt')\n",
    "    res['homework'] = v['homework__title']\n",
    "    res['time_homework'] = v['time_spent_lectures']\n",
    "    res['time_lectures'] = v['time_spent_homework']\n",
    "\n",
    "    if not res['time_homework'] and not res['time_lectures']:\n",
    "        continue\n",
    "\n",
    "    writer.writerow(res)"
   ]
  },
  {
   "cell_type": "code",
   "execution_count": 57,
   "id": "693687f0-5b28-4209-87ae-a5db67620ed6",
   "metadata": {},
   "outputs": [],
   "source": [
    "csv_file.close()"
   ]
  }
 ],
 "metadata": {
  "kernelspec": {
   "display_name": "Python 3 (ipykernel)",
   "language": "python",
   "name": "python3"
  },
  "language_info": {
   "codemirror_mode": {
    "name": "ipython",
    "version": 3
   },
   "file_extension": ".py",
   "mimetype": "text/x-python",
   "name": "python",
   "nbconvert_exporter": "python",
   "pygments_lexer": "ipython3",
   "version": "3.9.13"
  }
 },
 "nbformat": 4,
 "nbformat_minor": 5
}
