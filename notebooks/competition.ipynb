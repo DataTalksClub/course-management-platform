{
 "cells": [
  {
   "cell_type": "code",
   "execution_count": 1,
   "id": "f78701db",
   "metadata": {},
   "outputs": [
    {
     "name": "stdout",
     "output_type": "stream",
     "text": [
      "IS_LOCAL=True\n",
      "['C:\\\\Users\\\\alexe\\\\.virtualenvs\\\\course-management-platform-wiAsnpQu\\\\Lib\\\\site-packages\\\\ipykernel_launcher.py', '-f', 'C:\\\\Users\\\\alexe\\\\AppData\\\\Roaming\\\\jupyter\\\\runtime\\\\kernel-db2fb39d-8a7a-4f56-b1e5-70d4671ced1a.json']\n",
      "Is test: False\n"
     ]
    }
   ],
   "source": [
    "import os\n",
    "os.chdir('..')\n",
    "\n",
    "os.environ[\"DJANGO_SETTINGS_MODULE\"] = \"course_management.settings\"\n",
    "os.environ[\"DJANGO_ALLOW_ASYNC_UNSAFE\"] = \"true\"\n",
    "os.environ[\"IS_LOCAL\"] = \"1\"\n",
    "\n",
    "import django\n",
    "django.setup()"
   ]
  },
  {
   "cell_type": "code",
   "execution_count": 2,
   "id": "c7af9387-0c73-4b6d-a0db-e49bee7237fd",
   "metadata": {},
   "outputs": [],
   "source": [
    "from courses.models import *"
   ]
  },
  {
   "cell_type": "code",
   "execution_count": 3,
   "id": "aa44061b-93db-4f05-82a6-ae95162d719d",
   "metadata": {},
   "outputs": [],
   "source": [
    "from courses.scoring import update_faq_score, update_learning_in_public_score, update_leaderboard"
   ]
  },
  {
   "cell_type": "code",
   "execution_count": 4,
   "id": "92947775-47c5-4327-84df-b3f770482663",
   "metadata": {},
   "outputs": [],
   "source": [
    "from django.db.models import Prefetch"
   ]
  },
  {
   "cell_type": "code",
   "execution_count": 5,
   "id": "32181e4e-d2f6-453f-8c3f-5165d60dc9cd",
   "metadata": {},
   "outputs": [
    {
     "data": {
      "text/plain": [
       "<Course: Machine Learning Zoomcamp 2024>"
      ]
     },
     "execution_count": 5,
     "metadata": {},
     "output_type": "execute_result"
    }
   ],
   "source": [
    "course = Course.objects.get(id=5)\n",
    "course"
   ]
  },
  {
   "cell_type": "code",
   "execution_count": 6,
   "id": "bf067f4c-6a96-4676-8792-3a4c5502a4a8",
   "metadata": {},
   "outputs": [
    {
     "data": {
      "text/plain": [
       "<Homework: Machine Learning Zoomcamp 2024 - ML Zoomcamp 2024 Competition>"
      ]
     },
     "execution_count": 6,
     "metadata": {},
     "output_type": "execute_result"
    }
   ],
   "source": [
    "homework = Homework.objects.get(course=course, slug='competition')\n",
    "homework"
   ]
  },
  {
   "cell_type": "code",
   "execution_count": 7,
   "id": "2477d14d-b0bf-4cd8-aa95-4a2f78512845",
   "metadata": {},
   "outputs": [],
   "source": [
    "answers_prefetch = Prefetch(\"answer_set\", queryset=Answer.objects.all())"
   ]
  },
  {
   "cell_type": "code",
   "execution_count": 8,
   "id": "8981e4d1-c009-4c8c-aff7-ce8a32d484b0",
   "metadata": {},
   "outputs": [],
   "source": [
    "submissions = Submission.objects.prefetch_related(answers_prefetch).filter(homework=homework)"
   ]
  },
  {
   "cell_type": "code",
   "execution_count": 20,
   "id": "59e2170e-14bf-4c1f-9e43-78d26e1c6193",
   "metadata": {
    "scrolled": true
   },
   "outputs": [
    {
     "name": "stdout",
     "output_type": "stream",
     "text": [
      "16254\n",
      "[{'id': 92861, 'question_id': 198, 'answer_text': 'Sahil Sehgal'}, {'id': 92862, 'question_id': 199, 'answer_text': '41.0902'}, {'id': 92863, 'question_id': 200, 'answer_text': '36.7917'}]\n",
      "None\n",
      "15405\n",
      "[{'id': 88052, 'question_id': 198, 'answer_text': 'Abdiaziz Mohamed'}, {'id': 88053, 'question_id': 199, 'answer_text': '27.5109'}, {'id': 88054, 'question_id': 200, 'answer_text': '21.2269'}]\n",
      "None\n",
      "13368\n",
      "[{'id': 74381, 'question_id': 198, 'answer_text': 'Marko Golovko'}, {'id': 74382, 'question_id': 199, 'answer_text': '23.6956'}, {'id': 74383, 'question_id': 200, 'answer_text': ''}]\n",
      "None\n",
      "13370\n",
      "[{'id': 74386, 'question_id': 199, 'answer_text': '18.7468'}, {'id': 74387, 'question_id': 200, 'answer_text': '16.6473'}, {'id': 74385, 'question_id': 198, 'answer_text': 'jyphotography'}]\n",
      "None\n",
      "14703\n",
      "[{'id': 83457, 'question_id': 198, 'answer_text': 'dieego_gutierrez'}, {'id': 83458, 'question_id': 199, 'answer_text': '13.8908'}, {'id': 83459, 'question_id': 200, 'answer_text': ''}]\n",
      "None\n",
      "15416\n",
      "[{'id': 88122, 'question_id': 198, 'answer_text': 'Anefu Peter Oche'}, {'id': 88123, 'question_id': 199, 'answer_text': '25.4239'}, {'id': 88124, 'question_id': 200, 'answer_text': '18.6936'}]\n",
      "None\n",
      "15371\n",
      "[{'id': 87818, 'question_id': 198, 'answer_text': 'edisonmarcelo'}, {'id': 87819, 'question_id': 199, 'answer_text': '12.2324'}, {'id': 87820, 'question_id': 200, 'answer_text': '9.5624'}]\n",
      "None\n",
      "15422\n",
      "[{'id': 88149, 'question_id': 198, 'answer_text': 'Siddhartha Gogoi'}, {'id': 88150, 'question_id': 199, 'answer_text': '30.4354'}, {'id': 88151, 'question_id': 200, 'answer_text': '24.4538'}]\n",
      "None\n",
      "13581\n",
      "[{'id': 75839, 'question_id': 198, 'answer_text': 'Alper Ugurcan'}, {'id': 75840, 'question_id': 199, 'answer_text': '30.4288'}, {'id': 75841, 'question_id': 200, 'answer_text': ''}]\n",
      "None\n",
      "15372\n",
      "[{'id': 87821, 'question_id': 198, 'answer_text': 'Abdullah Isa Markus'}, {'id': 87822, 'question_id': 199, 'answer_text': '12.8249'}, {'id': 87823, 'question_id': 200, 'answer_text': '10.3003'}]\n",
      "None\n",
      "15380\n",
      "[{'id': 87880, 'question_id': 198, 'answer_text': 'AleTBM'}, {'id': 87881, 'question_id': 199, 'answer_text': '12.4373'}, {'id': 87882, 'question_id': 200, 'answer_text': '9.4650'}]\n",
      "None\n",
      "15401\n",
      "[{'id': 88026, 'question_id': 199, 'answer_text': '20.6058'}, {'id': 88025, 'question_id': 198, 'answer_text': 'AbdulKabir Subair'}, {'id': 88027, 'question_id': 200, 'answer_text': '21.2801'}]\n",
      "None\n",
      "15413\n",
      "[{'id': 88103, 'question_id': 198, 'answer_text': 'Tobi24'}, {'id': 88104, 'question_id': 199, 'answer_text': '27.5339'}, {'id': 88105, 'question_id': 200, 'answer_text': '21.3304'}]\n",
      "None\n",
      "15989\n",
      "[{'id': 91796, 'question_id': 198, 'answer_text': 'Wali Mohamed'}, {'id': 91797, 'question_id': 199, 'answer_text': '14.3323'}, {'id': 91798, 'question_id': 200, 'answer_text': '12.0726'}]\n",
      "None\n",
      "15267\n",
      "[{'id': 87026, 'question_id': 198, 'answer_text': 'Oleksii Latypov'}, {'id': 87027, 'question_id': 199, 'answer_text': '25.8611'}, {'id': 87028, 'question_id': 200, 'answer_text': '19.2195'}]\n",
      "None\n",
      "14949\n",
      "[{'id': 84931, 'question_id': 198, 'answer_text': 'Adi Kusuma'}, {'id': 84932, 'question_id': 199, 'answer_text': '11.6194'}, {'id': 84933, 'question_id': 200, 'answer_text': '9.2519'}]\n",
      "None\n",
      "15933\n",
      "[{'id': 91573, 'question_id': 198, 'answer_text': '-'}, {'id': 91574, 'question_id': 199, 'answer_text': '-'}, {'id': 91575, 'question_id': 200, 'answer_text': '-'}]\n",
      "None\n",
      "15020\n",
      "[{'id': 85379, 'question_id': 198, 'answer_text': 'Wali Mohamed ( + José Luis Martinez)'}, {'id': 85380, 'question_id': 199, 'answer_text': '14.3323'}, {'id': 85381, 'question_id': 200, 'answer_text': '12.0726'}]\n",
      "None\n",
      "15288\n",
      "[{'id': 87189, 'question_id': 198, 'answer_text': 'Zwe Htet Paing'}, {'id': 87190, 'question_id': 199, 'answer_text': ''}, {'id': 87191, 'question_id': 200, 'answer_text': ''}]\n",
      "None\n",
      "15307\n",
      "[{'id': 87336, 'question_id': 198, 'answer_text': 'Anefu Peter Oche'}, {'id': 87337, 'question_id': 199, 'answer_text': '25.4239'}, {'id': 87338, 'question_id': 200, 'answer_text': '18.6936'}]\n",
      "None\n",
      "15493\n",
      "[{'id': 88597, 'question_id': 200, 'answer_text': '21.2935'}, {'id': 88595, 'question_id': 198, 'answer_text': 'Dmytro Voytko'}, {'id': 88596, 'question_id': 199, 'answer_text': '27.4896'}]\n",
      "None\n",
      "15341\n",
      "[{'id': 87603, 'question_id': 198, 'answer_text': 'Juan Grau'}, {'id': 87604, 'question_id': 199, 'answer_text': '30.3255'}, {'id': 87605, 'question_id': 200, 'answer_text': ''}]\n",
      "None\n",
      "15346\n",
      "[{'id': 87638, 'question_id': 198, 'answer_text': 'Arsonor'}, {'id': 87639, 'question_id': 199, 'answer_text': '27.4692'}, {'id': 87640, 'question_id': 200, 'answer_text': '21.3007'}]\n",
      "None\n",
      "15565\n",
      "[{'id': 89055, 'question_id': 198, 'answer_text': 'Nevin Polat'}, {'id': 89056, 'question_id': 199, 'answer_text': '30.1810'}, {'id': 89057, 'question_id': 200, 'answer_text': '24.1590'}]\n",
      "None\n"
     ]
    }
   ],
   "source": [
    "for s in submissions:\n",
    "    print(s.id) #, s.student)\n",
    "    \n",
    "    answers = list(s.answer_set.values(\"id\", \"question_id\", \"answer_text\"))\n",
    "    print(answers)"
   ]
  },
  {
   "cell_type": "markdown",
   "id": "aec3819d-65ff-4247-a945-e403ea45e3e4",
   "metadata": {},
   "source": [
    "## Custom logic"
   ]
  },
  {
   "cell_type": "markdown",
   "id": "d3a54612-d37a-4818-8e28-60a4ebf34c0a",
   "metadata": {},
   "source": [
    "Updates"
   ]
  },
  {
   "cell_type": "code",
   "execution_count": 27,
   "id": "116678dc-2859-47cb-9b07-c125ac2c56cf",
   "metadata": {},
   "outputs": [],
   "source": [
    "a = Answer.objects.get(id=62222)\n",
    "a.answer_text = '0.9'\n",
    "a.save()"
   ]
  },
  {
   "cell_type": "markdown",
   "id": "e9dffea7-0c37-4598-ace8-14073fd3ac9a",
   "metadata": {},
   "source": [
    "Exclude"
   ]
  },
  {
   "cell_type": "code",
   "execution_count": 9,
   "id": "4ef29916-18eb-413d-9167-0e06b90a4f38",
   "metadata": {},
   "outputs": [
    {
     "data": {
      "text/plain": [
       "True"
      ]
     },
     "execution_count": 9,
     "metadata": {},
     "output_type": "execute_result"
    }
   ],
   "source": [
    "score_max = 8.9580\n",
    "score_min = 24.4835\n",
    "\n",
    "points_max = 20\n",
    "points_min = 2\n",
    "\n",
    "lower_better = score_max < score_min\n",
    "lower_better"
   ]
  },
  {
   "cell_type": "code",
   "execution_count": 10,
   "id": "47df668c-61c1-4ca3-9d08-18875975b46e",
   "metadata": {},
   "outputs": [],
   "source": [
    "ignore = {11346}"
   ]
  },
  {
   "cell_type": "code",
   "execution_count": 11,
   "id": "7b15ef82-0772-4853-b864-1bc304193528",
   "metadata": {},
   "outputs": [],
   "source": [
    "def calculate_points(score):\n",
    "    if lower_better:\n",
    "        score_min_inv, score_max_inv = -score_min, -score_max\n",
    "        score = -score\n",
    "    else:\n",
    "        score_min_inv, score_max_inv = score_min, score_max\n",
    "    \n",
    "    # print(f\"Score: {score}, Max: {score_max_inv}, Min: {score_min_inv}\")\n",
    "    \n",
    "    if score >= score_max_inv:\n",
    "        return points_max\n",
    "    elif score <= score_min_inv:\n",
    "        return points_min\n",
    "    \n",
    "    score_ratio = (score - score_min_inv) / (score_max_inv - score_min_inv)\n",
    "    # print(f\"Score Ratio: {score_ratio}\")\n",
    "    points = points_min + score_ratio * (points_max - points_min)\n",
    "    \n",
    "    return round(points)\n"
   ]
  },
  {
   "cell_type": "code",
   "execution_count": 12,
   "id": "40edb225-63d5-4ef7-809a-a53bdd81dd37",
   "metadata": {},
   "outputs": [
    {
     "data": {
      "text/plain": [
       "2"
      ]
     },
     "execution_count": 12,
     "metadata": {},
     "output_type": "execute_result"
    }
   ],
   "source": [
    "calculate_points(24.9580)"
   ]
  },
  {
   "cell_type": "code",
   "execution_count": 13,
   "id": "1c42540a-61e8-46a8-8ede-3c9a961e28fc",
   "metadata": {},
   "outputs": [
    {
     "data": {
      "text/plain": [
       "11"
      ]
     },
     "execution_count": 13,
     "metadata": {},
     "output_type": "execute_result"
    }
   ],
   "source": [
    "calculate_points((24.9580 + 8.9580) / 2)"
   ]
  },
  {
   "cell_type": "code",
   "execution_count": 14,
   "id": "6f6dd90b-a40a-41b7-a5e2-d4490405cd98",
   "metadata": {},
   "outputs": [
    {
     "data": {
      "text/plain": [
       "20"
      ]
     },
     "execution_count": 14,
     "metadata": {},
     "output_type": "execute_result"
    }
   ],
   "source": [
    "calculate_points(8.9580)"
   ]
  },
  {
   "cell_type": "code",
   "execution_count": 15,
   "id": "6d047f07-588a-4488-a6c2-77db9fa4eaa6",
   "metadata": {},
   "outputs": [
    {
     "name": "stdout",
     "output_type": "stream",
     "text": [
      "16254\n",
      "36.7917 2\n",
      "15405\n",
      "21.2269 6\n",
      "13368\n",
      "0 0\n",
      "13370\n",
      "16.6473 11\n",
      "14703\n",
      "0 0\n",
      "15416\n",
      "18.6936 9\n",
      "15371\n",
      "9.5624 19\n",
      "15422\n",
      "24.4538 2\n",
      "13581\n",
      "0 0\n",
      "15372\n",
      "10.3003 18\n",
      "15380\n",
      "9.465 19\n",
      "15401\n",
      "21.2801 6\n",
      "15413\n",
      "21.3304 6\n",
      "15989\n",
      "12.0726 16\n",
      "15267\n",
      "19.2195 8\n",
      "14949\n",
      "9.2519 20\n",
      "15933\n",
      "0 0\n",
      "15020\n",
      "12.0726 16\n",
      "15288\n",
      "0 0\n",
      "15307\n",
      "18.6936 9\n",
      "15493\n",
      "21.2935 6\n",
      "15341\n",
      "0 0\n",
      "15346\n",
      "21.3007 6\n",
      "15565\n",
      "24.159 2\n"
     ]
    }
   ],
   "source": [
    "for s in submissions:\n",
    "    if s.id in ignore:\n",
    "        continue\n",
    "\n",
    "    print(s.id)\n",
    "    \n",
    "    answers_raw = list(s.answer_set.all())\n",
    "    answers = {d.question_id: d for d in answers_raw}\n",
    "\n",
    "    answer_name = answers[198]\n",
    "    answer_name.correct = True\n",
    "    answer_name.save()\n",
    "    \n",
    "    answer_score = answers[200]\n",
    "    answer_score.correct = True\n",
    "    answer_score.save()\n",
    "\n",
    "    try:\n",
    "        competition_score = float(answer_score.answer_text)\n",
    "        points = calculate_points(competition_score)\n",
    "    except ValueError as e:\n",
    "        competition_score = 0\n",
    "        points = 0\n",
    "\n",
    "    s.questions_score = points\n",
    "\n",
    "    lip_score = update_learning_in_public_score(s)\n",
    "    faq_score = update_faq_score(s)\n",
    "    \n",
    "    s.total_score = points + lip_score + faq_score\n",
    "    s.save()\n",
    "    print(competition_score, points)"
   ]
  },
  {
   "cell_type": "code",
   "execution_count": 16,
   "id": "7c739643-abdf-4c05-a6c9-3b394f3ff58b",
   "metadata": {},
   "outputs": [],
   "source": [
    "homework.state = HomeworkState.SCORED.value\n",
    "homework.save()"
   ]
  },
  {
   "cell_type": "code",
   "execution_count": 18,
   "id": "8db5734f-d499-4758-8be7-1f5155cc7840",
   "metadata": {},
   "outputs": [
    {
     "name": "stderr",
     "output_type": "stream",
     "text": [
      "INFO Updating leaderboard for course 5\n",
      "INFO Updated leaderboard in 1.09 seconds\n"
     ]
    }
   ],
   "source": [
    "update_leaderboard(course)"
   ]
  },
  {
   "cell_type": "code",
   "execution_count": null,
   "id": "832b833b-be10-426c-b288-c08a1fa6d2e6",
   "metadata": {},
   "outputs": [],
   "source": []
  }
 ],
 "metadata": {
  "kernelspec": {
   "display_name": "Python 3 (ipykernel)",
   "language": "python",
   "name": "python3"
  },
  "language_info": {
   "codemirror_mode": {
    "name": "ipython",
    "version": 3
   },
   "file_extension": ".py",
   "mimetype": "text/x-python",
   "name": "python",
   "nbconvert_exporter": "python",
   "pygments_lexer": "ipython3",
   "version": "3.12.3"
  }
 },
 "nbformat": 4,
 "nbformat_minor": 5
}
