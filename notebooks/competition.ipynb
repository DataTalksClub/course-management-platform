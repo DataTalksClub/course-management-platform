{
 "cells": [
  {
   "cell_type": "code",
   "execution_count": 1,
   "id": "f78701db",
   "metadata": {},
   "outputs": [
    {
     "name": "stdout",
     "output_type": "stream",
     "text": [
      "IS_LOCAL=True\n",
      "['C:\\\\Users\\\\alexe\\\\git\\\\course-management-platform\\\\.venv\\\\lib\\\\site-packages\\\\ipykernel_launcher.py', '-f', 'C:\\\\Users\\\\alexe\\\\AppData\\\\Roaming\\\\jupyter\\\\runtime\\\\kernel-57c2d1c8-fa76-4514-a88e-b4c9a31f5314.json']\n",
      "Is test: False\n"
     ]
    }
   ],
   "source": [
    "import os\n",
    "os.chdir('..')\n",
    "\n",
    "os.environ[\"DJANGO_SETTINGS_MODULE\"] = \"course_management.settings\"\n",
    "os.environ[\"DJANGO_ALLOW_ASYNC_UNSAFE\"] = \"true\"\n",
    "os.environ[\"IS_LOCAL\"] = \"1\"\n",
    "\n",
    "import django\n",
    "django.setup()"
   ]
  },
  {
   "cell_type": "code",
   "execution_count": 2,
   "id": "c7af9387-0c73-4b6d-a0db-e49bee7237fd",
   "metadata": {},
   "outputs": [],
   "source": [
    "from courses.models import *"
   ]
  },
  {
   "cell_type": "code",
   "execution_count": 12,
   "id": "92947775-47c5-4327-84df-b3f770482663",
   "metadata": {},
   "outputs": [],
   "source": [
    "from django.db.models import Prefetch"
   ]
  },
  {
   "cell_type": "code",
   "execution_count": 4,
   "id": "bfc4ba99-14bc-44ec-8a23-d3d3b4b0c3cd",
   "metadata": {},
   "outputs": [
    {
     "data": {
      "text/plain": [
       "<Course: LLM Zoomcamp 2024>"
      ]
     },
     "execution_count": 4,
     "metadata": {},
     "output_type": "execute_result"
    }
   ],
   "source": [
    "course = Course.objects.get(id=4)\n",
    "course"
   ]
  },
  {
   "cell_type": "code",
   "execution_count": 6,
   "id": "bf067f4c-6a96-4676-8792-3a4c5502a4a8",
   "metadata": {},
   "outputs": [
    {
     "data": {
      "text/plain": [
       "<Homework: LLM Zoomcamp 2024 - LLM Zoomcamp 2024 Competition>"
      ]
     },
     "execution_count": 6,
     "metadata": {},
     "output_type": "execute_result"
    }
   ],
   "source": [
    "homework = Homework.objects.get(course=course, slug='competition')\n",
    "homework"
   ]
  },
  {
   "cell_type": "code",
   "execution_count": 16,
   "id": "2477d14d-b0bf-4cd8-aa95-4a2f78512845",
   "metadata": {},
   "outputs": [],
   "source": [
    "answers_prefetch = Prefetch(\"answer_set\", queryset=Answer.objects.all())"
   ]
  },
  {
   "cell_type": "code",
   "execution_count": 17,
   "id": "8981e4d1-c009-4c8c-aff7-ce8a32d484b0",
   "metadata": {},
   "outputs": [],
   "source": [
    "submissions = Submission.objects.prefetch_related(answers_prefetch).filter(homework=homework)"
   ]
  },
  {
   "cell_type": "code",
   "execution_count": 37,
   "id": "59e2170e-14bf-4c1f-9e43-78d26e1c6193",
   "metadata": {},
   "outputs": [
    {
     "name": "stdout",
     "output_type": "stream",
     "text": [
      "11533\n",
      "[{'id': 63299, 'question_id': 153, 'answer_text': 'Valery Rabinin'}, {'id': 63300, 'question_id': 154, 'answer_text': '0.85'}]\n",
      "11543\n",
      "[{'id': 63355, 'question_id': 153, 'answer_text': 'Marcel Castro'}, {'id': 63356, 'question_id': 154, 'answer_text': '0.9'}]\n",
      "11340\n",
      "[{'id': 62217, 'question_id': 153, 'answer_text': 'Alexander Heinz'}, {'id': 62218, 'question_id': 154, 'answer_text': '0.85000'}]\n",
      "11341\n",
      "[{'id': 62219, 'question_id': 153, 'answer_text': 'Vyacheslav Shen'}, {'id': 62220, 'question_id': 154, 'answer_text': '0.95000'}]\n",
      "11342\n",
      "[{'id': 62221, 'question_id': 153, 'answer_text': 'CHINONSO ODIAKA'}, {'id': 62222, 'question_id': 154, 'answer_text': '0.9'}]\n",
      "11343\n",
      "[{'id': 62223, 'question_id': 153, 'answer_text': 'vladkha'}, {'id': 62224, 'question_id': 154, 'answer_text': '0.95000'}]\n",
      "11344\n",
      "[{'id': 62225, 'question_id': 153, 'answer_text': 'Fazle Hasan'}, {'id': 62226, 'question_id': 154, 'answer_text': '0.55000'}]\n",
      "11345\n",
      "[{'id': 62227, 'question_id': 153, 'answer_text': 'Dimitrios Zacharenakis'}, {'id': 62228, 'question_id': 154, 'answer_text': '0.85000'}]\n",
      "11346\n",
      "[{'id': 62230, 'question_id': 154, 'answer_text': '441'}, {'id': 62229, 'question_id': 153, 'answer_text': 'Karl H.'}]\n",
      "11350\n",
      "[{'id': 62249, 'question_id': 153, 'answer_text': 'Dmitry Kosintsev'}, {'id': 62250, 'question_id': 154, 'answer_text': '0.90000'}]\n",
      "11356\n",
      "[{'id': 62281, 'question_id': 153, 'answer_text': 'ArturG'}, {'id': 62282, 'question_id': 154, 'answer_text': '0.95000'}]\n",
      "11360\n",
      "[{'id': 62301, 'question_id': 153, 'answer_text': 'Nevin Polat'}, {'id': 62302, 'question_id': 154, 'answer_text': '0.85000'}]\n",
      "11456\n",
      "[{'id': 62841, 'question_id': 153, 'answer_text': 'Carlos'}, {'id': 62842, 'question_id': 154, 'answer_text': '0.90000'}]\n",
      "11363\n",
      "[{'id': 62315, 'question_id': 153, 'answer_text': 'KABIR OLAWALE MOHAMMED'}, {'id': 62316, 'question_id': 154, 'answer_text': '0.9'}]\n",
      "11367\n",
      "[{'id': 62335, 'question_id': 153, 'answer_text': 'Optimistix'}, {'id': 62336, 'question_id': 154, 'answer_text': '0.90'}]\n",
      "11368\n",
      "[{'id': 62337, 'question_id': 153, 'answer_text': 'hari141v'}, {'id': 62338, 'question_id': 154, 'answer_text': '0.65'}]\n",
      "11581\n",
      "[{'id': 63579, 'question_id': 153, 'answer_text': 'Tobi24'}, {'id': 63580, 'question_id': 154, 'answer_text': '0.85000'}]\n",
      "11405\n",
      "[{'id': 62555, 'question_id': 153, 'answer_text': 'Ranga Hande'}, {'id': 62556, 'question_id': 154, 'answer_text': '0.55000'}]\n",
      "11586\n",
      "[{'id': 63605, 'question_id': 153, 'answer_text': 'Alexey Muratov'}, {'id': 63606, 'question_id': 154, 'answer_text': '0.80000'}]\n",
      "11416\n",
      "[{'id': 62617, 'question_id': 153, 'answer_text': 'Roman Zabolotin'}, {'id': 62618, 'question_id': 154, 'answer_text': '0.90000'}]\n",
      "11593\n",
      "[{'id': 63643, 'question_id': 153, 'answer_text': 'Dan Cesp'}, {'id': 63644, 'question_id': 154, 'answer_text': '0.85'}]\n",
      "11862\n",
      "[{'id': 65249, 'question_id': 153, 'answer_text': 'Peco602'}, {'id': 65250, 'question_id': 154, 'answer_text': '0.8500'}]\n",
      "11429\n",
      "[{'id': 62691, 'question_id': 153, 'answer_text': 'Ivan Brigida'}, {'id': 62692, 'question_id': 154, 'answer_text': '0.85'}]\n",
      "11605\n",
      "[{'id': 63711, 'question_id': 153, 'answer_text': 'Uchechukwu Njoku'}, {'id': 63712, 'question_id': 154, 'answer_text': '0.65000'}]\n",
      "11436\n",
      "[{'id': 62729, 'question_id': 153, 'answer_text': 'max'}, {'id': 62730, 'question_id': 154, 'answer_text': '0.85000'}]\n",
      "11437\n",
      "[{'id': 62731, 'question_id': 153, 'answer_text': 'morsondak'}, {'id': 62732, 'question_id': 154, 'answer_text': '0.80000'}]\n"
     ]
    }
   ],
   "source": [
    "for s in submissions:\n",
    "    print(s.id) #, s.student)\n",
    "    \n",
    "    answers = list(s.answer_set.values(\"id\", \"question_id\", \"answer_text\"))\n",
    "    print(answers)"
   ]
  },
  {
   "cell_type": "markdown",
   "id": "aec3819d-65ff-4247-a945-e403ea45e3e4",
   "metadata": {},
   "source": [
    "## Custom logic"
   ]
  },
  {
   "cell_type": "markdown",
   "id": "d3a54612-d37a-4818-8e28-60a4ebf34c0a",
   "metadata": {},
   "source": [
    "Updates"
   ]
  },
  {
   "cell_type": "code",
   "execution_count": 27,
   "id": "116678dc-2859-47cb-9b07-c125ac2c56cf",
   "metadata": {},
   "outputs": [],
   "source": [
    "a = Answer.objects.get(id=62222)\n",
    "a.answer_text = '0.9'\n",
    "a.save()"
   ]
  },
  {
   "cell_type": "markdown",
   "id": "e9dffea7-0c37-4598-ace8-14073fd3ac9a",
   "metadata": {},
   "source": [
    "Exclude"
   ]
  },
  {
   "cell_type": "code",
   "execution_count": null,
   "id": "4ef29916-18eb-413d-9167-0e06b90a4f38",
   "metadata": {},
   "outputs": [],
   "source": [
    "score_max = 0.95\n",
    "score_min = 0.50\n",
    "\n",
    "points_max = 20\n",
    "points_min = 10"
   ]
  },
  {
   "cell_type": "code",
   "execution_count": 31,
   "id": "47df668c-61c1-4ca3-9d08-18875975b46e",
   "metadata": {},
   "outputs": [],
   "source": [
    "ignore = {11346}"
   ]
  },
  {
   "cell_type": "code",
   "execution_count": 32,
   "id": "7b15ef82-0772-4853-b864-1bc304193528",
   "metadata": {},
   "outputs": [],
   "source": [
    "def calculate_points(score):\n",
    "    score_max = 0.95\n",
    "    score_min = 0.50\n",
    "    points_max = 20\n",
    "    points_min = 10\n",
    "\n",
    "    if score >= score_max:\n",
    "        return points_max\n",
    "    elif score < score_min:\n",
    "        return 0\n",
    "    elif score == score_min:\n",
    "        return points_min\n",
    "   \n",
    "    score_ratio = (score - score_min) / (score_max - score_min)\n",
    "    points = points_min + score_ratio * (points_max - points_min)\n",
    "    return round(points)"
   ]
  },
  {
   "cell_type": "code",
   "execution_count": 36,
   "id": "40edb225-63d5-4ef7-809a-a53bdd81dd37",
   "metadata": {},
   "outputs": [
    {
     "data": {
      "text/plain": [
       "17"
      ]
     },
     "execution_count": 36,
     "metadata": {},
     "output_type": "execute_result"
    }
   ],
   "source": [
    "calculate_points(0.8)"
   ]
  },
  {
   "cell_type": "code",
   "execution_count": 52,
   "id": "6d047f07-588a-4488-a6c2-77db9fa4eaa6",
   "metadata": {},
   "outputs": [
    {
     "name": "stdout",
     "output_type": "stream",
     "text": [
      "11533\n",
      "0.85 18\n",
      "11543\n",
      "0.9 19\n",
      "11340\n",
      "0.85 18\n",
      "11341\n",
      "0.95 20\n",
      "11342\n",
      "90.0 20\n",
      "11343\n",
      "0.95 20\n",
      "11344\n",
      "0.55 11\n",
      "11345\n",
      "0.85 18\n",
      "11350\n",
      "0.9 19\n",
      "11356\n",
      "0.95 20\n",
      "11360\n",
      "0.85 18\n",
      "11456\n",
      "0.9 19\n",
      "11363\n",
      "0.9 19\n",
      "11367\n",
      "0.9 19\n",
      "11368\n",
      "0.65 13\n",
      "11581\n",
      "0.85 18\n",
      "11405\n",
      "0.55 11\n",
      "11586\n",
      "0.8 17\n",
      "11416\n",
      "0.9 19\n",
      "11593\n",
      "0.85 18\n",
      "11862\n",
      "0.85 18\n",
      "11429\n",
      "0.85 18\n",
      "11605\n",
      "0.65 13\n",
      "11436\n",
      "0.85 18\n",
      "11437\n",
      "0.8 17\n"
     ]
    }
   ],
   "source": [
    "for s in submissions:\n",
    "    if s.id in ignore:\n",
    "        continue\n",
    "\n",
    "    print(s.id)\n",
    "    \n",
    "    answers_raw = list(s.answer_set.all())\n",
    "    answers = {d.question_id: d for d in answers_raw}\n",
    "\n",
    "    answer_name = answers[153]\n",
    "    answer_name.correct = True\n",
    "    answer_name.save()\n",
    "    \n",
    "    answer_score = answers[154]\n",
    "    answer_score.correct = True\n",
    "    answer_score.save()\n",
    "\n",
    "    score = float(answer_score.answer_text)\n",
    "    points = calculate_points(score)\n",
    "\n",
    "    s.questions_score = points\n",
    "    s.total_score = points\n",
    "    s.save()\n",
    "    print(score, points)"
   ]
  },
  {
   "cell_type": "code",
   "execution_count": 53,
   "id": "7c739643-abdf-4c05-a6c9-3b394f3ff58b",
   "metadata": {},
   "outputs": [],
   "source": [
    "homework.state = HomeworkState.SCORED.value\n",
    "homework.save()"
   ]
  },
  {
   "cell_type": "code",
   "execution_count": 54,
   "id": "fd990e48-a562-44dc-800b-8ed46c530851",
   "metadata": {},
   "outputs": [],
   "source": [
    "from courses.scoring import update_leaderboard"
   ]
  },
  {
   "cell_type": "code",
   "execution_count": 55,
   "id": "8db5734f-d499-4758-8be7-1f5155cc7840",
   "metadata": {},
   "outputs": [
    {
     "name": "stderr",
     "output_type": "stream",
     "text": [
      "INFO Updating leaderboard for course 4\n",
      "INFO Updated leaderboard in 1.59 seconds\n"
     ]
    }
   ],
   "source": [
    "update_leaderboard(course)"
   ]
  },
  {
   "cell_type": "code",
   "execution_count": null,
   "id": "832b833b-be10-426c-b288-c08a1fa6d2e6",
   "metadata": {},
   "outputs": [],
   "source": []
  }
 ],
 "metadata": {
  "kernelspec": {
   "display_name": "Python 3 (ipykernel)",
   "language": "python",
   "name": "python3"
  },
  "language_info": {
   "codemirror_mode": {
    "name": "ipython",
    "version": 3
   },
   "file_extension": ".py",
   "mimetype": "text/x-python",
   "name": "python",
   "nbconvert_exporter": "python",
   "pygments_lexer": "ipython3",
   "version": "3.9.13"
  }
 },
 "nbformat": 4,
 "nbformat_minor": 5
}
