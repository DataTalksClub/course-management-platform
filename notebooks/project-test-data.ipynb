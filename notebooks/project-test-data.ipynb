{
 "cells": [
  {
   "cell_type": "code",
   "execution_count": 1,
   "id": "f78701db",
   "metadata": {},
   "outputs": [
    {
     "name": "stdout",
     "output_type": "stream",
     "text": [
      "IS_LOCAL=True\n",
      "['C:\\\\Users\\\\alexe\\\\.virtualenvs\\\\course-management-platform-wiAsnpQu\\\\lib\\\\site-packages\\\\ipykernel_launcher.py', '-f', 'C:\\\\Users\\\\alexe\\\\AppData\\\\Roaming\\\\jupyter\\\\runtime\\\\kernel-9fe39702-c5c9-4508-8565-76ea437bff09.json']\n",
      "Is test: False\n"
     ]
    }
   ],
   "source": [
    "import os\n",
    "os.chdir('..')\n",
    "\n",
    "os.environ[\"DJANGO_SETTINGS_MODULE\"] = \"course_management.settings\"\n",
    "os.environ[\"DJANGO_ALLOW_ASYNC_UNSAFE\"] = \"true\"\n",
    "os.environ[\"IS_LOCAL\"] = \"1\"\n",
    "\n",
    "import django\n",
    "django.setup()"
   ]
  },
  {
   "cell_type": "code",
   "execution_count": 2,
   "id": "c7af9387-0c73-4b6d-a0db-e49bee7237fd",
   "metadata": {},
   "outputs": [],
   "source": [
    "from django.contrib.auth import get_user_model # noqa: E402\n",
    "\n",
    "from courses.models import (  # noqa: E402\n",
    "    Course,\n",
    "    Enrollment,\n",
    "    Homework,\n",
    "    Question,\n",
    "    Submission,\n",
    "    Answer,\n",
    "    QuestionTypes,\n",
    "    AnswerTypes,\n",
    "    Project,\n",
    "    ProjectSubmission,\n",
    "    QUESTION_ANSWER_DELIMITER,\n",
    ")\n",
    "\n",
    "\n",
    "User = get_user_model()\n",
    "\n",
    "course = Course.objects.get(slug=\"fake-course\")\n"
   ]
  },
  {
   "cell_type": "code",
   "execution_count": 3,
   "id": "2f70db97-9472-4889-a5fa-6d7f117930b0",
   "metadata": {},
   "outputs": [],
   "source": [
    "from courses.projects import assign_peer_reviews_for_project, score_project\n",
    "\n",
    "from courses.models import ReviewCriteria, ReviewCriteriaTypes, PeerReview, PeerReviewState, CriteriaResponse"
   ]
  },
  {
   "cell_type": "code",
   "execution_count": 4,
   "id": "aaba3652-666f-4548-af46-6330d6775e4a",
   "metadata": {},
   "outputs": [],
   "source": [
    "import random\n",
    "from django.utils import timezone\n"
   ]
  },
  {
   "cell_type": "code",
   "execution_count": 5,
   "id": "52cf9396-5c21-4eea-8ae3-d03eaf8a35a5",
   "metadata": {},
   "outputs": [],
   "source": [
    "criteria = ReviewCriteria.objects.filter(course=course)\n",
    "enrollments = Enrollment.objects.filter(course=course)"
   ]
  },
  {
   "cell_type": "code",
   "execution_count": 6,
   "id": "cc39fb14-66f7-46af-8e6d-0e5f1cc049d9",
   "metadata": {},
   "outputs": [],
   "source": [
    "p1 = Project.objects.get(\n",
    "    course=course,\n",
    "    slug=f\"project-1\",\n",
    ")\n",
    "\n",
    "p2 = Project.objects.get(\n",
    "    course=course,\n",
    "    slug=f\"project-2\",\n",
    ")"
   ]
  },
  {
   "cell_type": "code",
   "execution_count": null,
   "id": "53ad926a-29f5-47da-91c7-593ca4ebecb6",
   "metadata": {},
   "outputs": [],
   "source": [
    "p = p2\n",
    "\n",
    "assign_peer_reviews_for_project(p)\n",
    "\n",
    "submissions = ProjectSubmission.objects.filter(enrollment__in=enrollments, project=p)\n",
    "reviews = PeerReview.objects.filter(reviewer__in=submissions)\n",
    "\n",
    "for r in reviews:\n",
    "    if random.uniform(0, 1) < 0.2:\n",
    "        continue\n",
    "\n",
    "    for c in criteria:\n",
    "        options = c.options\n",
    "        \n",
    "        if c.review_criteria_type == ReviewCriteriaTypes.RADIO_BUTTONS.value:\n",
    "            i = random.randint(0, len(options) - 1)\n",
    "            answer = str(i + 1)\n",
    "        if c.review_criteria_type == ReviewCriteriaTypes.CHECKBOXES.value:\n",
    "            answers = []\n",
    "            for i in range(len(options)):\n",
    "                if random.uniform(0, 1) < 0.3:\n",
    "                    answers.append(str(i + 1))\n",
    "            answer = \",\".join(answers)\n",
    "\n",
    "        CriteriaResponse.objects.create(\n",
    "            review=r,\n",
    "            criteria=c,\n",
    "            answer=answer,\n",
    "        )\n",
    "\n",
    "    r.state = PeerReviewState.SUBMITTED.value\n",
    "    r.save()"
   ]
  },
  {
   "cell_type": "code",
   "execution_count": 7,
   "id": "c103f0f0-e636-45ab-b0fc-e530db166bd1",
   "metadata": {},
   "outputs": [
    {
     "name": "stderr",
     "output_type": "stream",
     "text": [
      "INFO updading 21 submissions...\n",
      "INFO Updating leaderboard for course 1\n",
      "INFO Updated leaderboard in 0.02 seconds\n",
      "INFO Project 2 scored in 0.37 seconds.\n"
     ]
    },
    {
     "data": {
      "text/plain": [
       "(<ProjectActionStatus.OK: 'OK'>,\n",
       " \"Project 2 scored and state updated to 'COMPLETED'.\")"
      ]
     },
     "execution_count": 7,
     "metadata": {},
     "output_type": "execute_result"
    }
   ],
   "source": [
    "p1.peer_review_due_date = timezone.now()\n",
    "score_project(p1)"
   ]
  },
  {
   "cell_type": "code",
   "execution_count": 27,
   "id": "a33dc491-ff08-4a30-82dc-0de76ecac719",
   "metadata": {},
   "outputs": [],
   "source": []
  },
  {
   "cell_type": "code",
   "execution_count": 16,
   "id": "7aba1f4f-799d-467f-9942-477a37a23800",
   "metadata": {},
   "outputs": [],
   "source": []
  },
  {
   "cell_type": "code",
   "execution_count": 39,
   "id": "a913f267-fac6-4739-be6e-bab16a24397f",
   "metadata": {},
   "outputs": [],
   "source": []
  },
  {
   "cell_type": "code",
   "execution_count": null,
   "id": "dec9b4ff-203c-4ae3-9ccd-b1003a081941",
   "metadata": {},
   "outputs": [],
   "source": []
  }
 ],
 "metadata": {
  "kernelspec": {
   "display_name": "Python 3 (ipykernel)",
   "language": "python",
   "name": "python3"
  },
  "language_info": {
   "codemirror_mode": {
    "name": "ipython",
    "version": 3
   },
   "file_extension": ".py",
   "mimetype": "text/x-python",
   "name": "python",
   "nbconvert_exporter": "python",
   "pygments_lexer": "ipython3",
   "version": "3.9.13"
  }
 },
 "nbformat": 4,
 "nbformat_minor": 5
}
