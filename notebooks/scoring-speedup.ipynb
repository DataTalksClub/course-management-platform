{
 "cells": [
  {
   "cell_type": "code",
   "execution_count": 1,
   "id": "f78701db",
   "metadata": {},
   "outputs": [
    {
     "name": "stdout",
     "output_type": "stream",
     "text": [
      "IS_LOCAL=True\n",
      "['C:\\\\Users\\\\alexe\\\\.virtualenvs\\\\course-management-platform-wiAsnpQu\\\\lib\\\\site-packages\\\\ipykernel_launcher.py', '-f', 'C:\\\\Users\\\\alexe\\\\AppData\\\\Roaming\\\\jupyter\\\\runtime\\\\kernel-5ac07f6b-db89-486a-ae8f-916dfbc2b5be.json']\n",
      "Is test: False\n"
     ]
    }
   ],
   "source": [
    "import os\n",
    "os.chdir('..')\n",
    "\n",
    "os.environ[\"DJANGO_SETTINGS_MODULE\"] = \"course_management.settings\"\n",
    "os.environ[\"DJANGO_ALLOW_ASYNC_UNSAFE\"] = \"true\"\n",
    "os.environ[\"IS_LOCAL\"] = \"1\"\n",
    "\n",
    "import django\n",
    "django.setup()"
   ]
  },
  {
   "cell_type": "code",
   "execution_count": 2,
   "id": "d27cf9d1-c1b9-4fd9-a436-4ae8228cafc0",
   "metadata": {},
   "outputs": [],
   "source": [
    "from courses.models import *"
   ]
  },
  {
   "cell_type": "code",
   "execution_count": 3,
   "id": "2a469e57-58fe-49a4-994c-3470dd38cf6d",
   "metadata": {},
   "outputs": [],
   "source": [
    "# homework_id = '1'\n",
    "# hw = Homework.objects.get(id=homework_id)\n",
    "# hw.is_scored = False\n",
    "# hw.save()"
   ]
  },
  {
   "cell_type": "code",
   "execution_count": 4,
   "id": "65b6df05-ba04-4fb9-9138-3e07dbebcb7a",
   "metadata": {},
   "outputs": [],
   "source": [
    "from courses import scoring"
   ]
  },
  {
   "cell_type": "code",
   "execution_count": null,
   "id": "5649e9e3-7df6-4045-bc33-5541fd82c5a4",
   "metadata": {},
   "outputs": [],
   "source": [
    "scoring.score_homework_submissions('3')"
   ]
  },
  {
   "cell_type": "code",
   "execution_count": 15,
   "id": "b301c9ff-79b9-4a19-80aa-b581344f0ef2",
   "metadata": {},
   "outputs": [],
   "source": [
    "s = Submission.objects.get(id=2871)"
   ]
  },
  {
   "cell_type": "code",
   "execution_count": 16,
   "id": "8d3cd268-1641-4bb5-ab3c-76b6adf53aea",
   "metadata": {},
   "outputs": [],
   "source": [
    "def replace_answers_with_indexes(possible_answers, answers, question_id=None):\n",
    "    possible_answers = [\n",
    "        answer.strip().lower() for answer in possible_answers\n",
    "    ]\n",
    "    answers = answers.lower().strip()\n",
    "\n",
    "    correct_indexes = []\n",
    "\n",
    "    for answer in answers.split(\",\"):\n",
    "        answer = answer.strip()\n",
    "        try:\n",
    "            zero_based_index = possible_answers.index(answer)\n",
    "            index = zero_based_index + 1\n",
    "            correct_indexes.append(str(index))\n",
    "        except ValueError:\n",
    "            raise\n",
    "\n",
    "    result = \",\".join(correct_indexes)\n",
    "\n",
    "    return result\n"
   ]
  },
  {
   "cell_type": "code",
   "execution_count": 17,
   "id": "042b9ab6-d793-4d6a-bd8e-53b053f7c4be",
   "metadata": {
    "scrolled": true
   },
   "outputs": [
    {
     "name": "stdout",
     "output_type": "stream",
     "text": [
      "18569\n",
      "8.382\n",
      "{1}\n",
      "['10.234', '7.892', '8.382', '9.123']\n",
      "updated answer 3\n",
      "\n",
      "18570\n",
      "3.605\n",
      "{1}\n",
      "['4.236', '3.605', '2.345', '5.678']\n",
      "updated answer 2\n",
      "\n",
      "18571\n",
      "365\n",
      "{1}\n",
      "['353', '365', '378', '390']\n",
      "updated answer 2\n",
      "\n",
      "18572\n",
      "266\n",
      "{2}\n",
      "['215', '266', '241', '258']\n",
      "updated answer 2\n",
      "\n"
     ]
    }
   ],
   "source": [
    "for answer in s.answer_set.all():\n",
    "    question = answer.question\n",
    "\n",
    "    print(answer.id)\n",
    "    print(answer.answer_text)\n",
    "    print(question.get_correct_answer_indices())\n",
    "    print(question.get_possible_answers())\n",
    "\n",
    "    possible_answers = question.get_possible_answers()\n",
    "\n",
    "    updated_answer = replace_answers_with_indexes(\n",
    "        possible_answers, answer.answer_text, question.id\n",
    "    )\n",
    "\n",
    "    print('updated answer', updated_answer)\n",
    "    answer.answer_text = updated_answer\n",
    "    answer.save()\n",
    "    print()"
   ]
  },
  {
   "cell_type": "code",
   "execution_count": null,
   "id": "3ea0a1a7-b28c-4d67-8ece-5ee8cee737ef",
   "metadata": {},
   "outputs": [],
   "source": []
  }
 ],
 "metadata": {
  "kernelspec": {
   "display_name": "Python 3 (ipykernel)",
   "language": "python",
   "name": "python3"
  },
  "language_info": {
   "codemirror_mode": {
    "name": "ipython",
    "version": 3
   },
   "file_extension": ".py",
   "mimetype": "text/x-python",
   "name": "python",
   "nbconvert_exporter": "python",
   "pygments_lexer": "ipython3",
   "version": "3.9.13"
  }
 },
 "nbformat": 4,
 "nbformat_minor": 5
}
