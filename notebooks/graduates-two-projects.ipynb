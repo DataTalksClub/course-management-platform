{
 "cells": [
  {
   "cell_type": "code",
   "execution_count": 1,
   "id": "f78701db",
   "metadata": {},
   "outputs": [
    {
     "name": "stdout",
     "output_type": "stream",
     "text": [
      "IS_LOCAL=True\n",
      "['C:\\\\Users\\\\alexe\\\\.virtualenvs\\\\course-management-platform-wiAsnpQu\\\\Lib\\\\site-packages\\\\ipykernel_launcher.py', '-f', 'C:\\\\Users\\\\alexe\\\\AppData\\\\Roaming\\\\jupyter\\\\runtime\\\\kernel-9eb5d2ed-4b55-4182-b34d-d65b8ae9db36.json']\n",
      "Is test: False\n"
     ]
    }
   ],
   "source": [
    "import os\n",
    "os.chdir('..')\n",
    "\n",
    "os.environ[\"DJANGO_SETTINGS_MODULE\"] = \"course_management.settings\"\n",
    "os.environ[\"DJANGO_ALLOW_ASYNC_UNSAFE\"] = \"true\"\n",
    "os.environ[\"IS_LOCAL\"] = \"1\"\n",
    "\n",
    "import django\n",
    "django.setup()"
   ]
  },
  {
   "cell_type": "code",
   "execution_count": null,
   "id": "02e2d90a-8a86-4fed-ab3d-38c713fb0727",
   "metadata": {},
   "outputs": [],
   "source": [
    "from collections import Counter\n",
    "import pandas as pd"
   ]
  },
  {
   "cell_type": "code",
   "execution_count": 2,
   "id": "c7af9387-0c73-4b6d-a0db-e49bee7237fd",
   "metadata": {},
   "outputs": [],
   "source": [
    "from courses.models import *"
   ]
  },
  {
   "cell_type": "code",
   "execution_count": 3,
   "id": "bfc4ba99-14bc-44ec-8a23-d3d3b4b0c3cd",
   "metadata": {},
   "outputs": [
    {
     "name": "stdout",
     "output_type": "stream",
     "text": [
      "Machine Learning Zoomcamp 2024\n"
     ]
    }
   ],
   "source": [
    "course = Course.objects.get(id=5)\n",
    "print(course)"
   ]
  },
  {
   "cell_type": "code",
   "execution_count": 4,
   "id": "54973484-3246-442a-b9b7-f5c675157221",
   "metadata": {},
   "outputs": [],
   "source": [
    "output = r'C:/Users/alexe/git/zoomcamp-scoring/courses/mlzoomcamp-2024/graduates.csv'"
   ]
  },
  {
   "cell_type": "code",
   "execution_count": 25,
   "id": "db5cef40-76cf-4ff7-a1f5-3cacf8477137",
   "metadata": {},
   "outputs": [],
   "source": [
    "min_projects = 2"
   ]
  },
  {
   "cell_type": "code",
   "execution_count": 5,
   "id": "0da1bf2c-b241-46e2-9cc5-90934107e2f5",
   "metadata": {},
   "outputs": [
    {
     "data": {
      "text/plain": [
       "'https://certificate.datatalks.club/ml-zoomcamp/2024/{hash}.pdf'"
      ]
     },
     "execution_count": 5,
     "metadata": {},
     "output_type": "execute_result"
    }
   ],
   "source": [
    "cohort = 2024\n",
    "course_name = 'ml-zoomcamp'\n",
    "certificate_url_template = f\"https://certificate.datatalks.club/{course_name}/{cohort}/{{hash}}.pdf\"\n",
    "certificate_url_template"
   ]
  },
  {
   "cell_type": "code",
   "execution_count": 34,
   "id": "c6798c0f-726d-4469-a8ac-f0d257252b30",
   "metadata": {},
   "outputs": [
    {
     "data": {
      "text/plain": [
       "393"
      ]
     },
     "execution_count": 34,
     "metadata": {},
     "output_type": "execute_result"
    }
   ],
   "source": [
    "graduates = ProjectSubmission.objects \\\n",
    "    .filter(project__course=course, passed=True) \\\n",
    "    .prefetch_related(\"enrollment\")\n",
    "\n",
    "len(graduates)"
   ]
  },
  {
   "cell_type": "code",
   "execution_count": 35,
   "id": "be7e8e3d-1405-4866-b816-fbf9c11997d3",
   "metadata": {},
   "outputs": [],
   "source": [
    "cnt = Counter()\n",
    "ids_mapping = {}\n",
    "\n",
    "for g in graduates:\n",
    "    e = g.enrollment\n",
    "    eid = e.id\n",
    "    cnt[eid] += 1\n",
    "    ids_mapping[eid] = e\n",
    "\n",
    "passed = []\n",
    "\n",
    "for eid, c in list(cnt.items()):\n",
    "    if c >= min_projects:\n",
    "        passed.append(ids_mapping[eid])"
   ]
  },
  {
   "cell_type": "code",
   "execution_count": 36,
   "id": "3e110177-ce48-4e92-bda0-4149ce14c7a6",
   "metadata": {},
   "outputs": [],
   "source": [
    "from hashlib import sha1\n",
    "\n",
    "def compute_hash(email):\n",
    "    return sha1(email.encode('utf-8')).hexdigest()\n",
    "\n",
    "def compute_certificate_id(email):\n",
    "    email_clean = email.lower().strip()\n",
    "    return compute_hash(email_clean + '_')"
   ]
  },
  {
   "cell_type": "code",
   "execution_count": 38,
   "id": "9186edcf-027f-4a2f-bdc4-92882b3e29bd",
   "metadata": {},
   "outputs": [],
   "source": [
    "results = []\n",
    "\n",
    "results.append({\n",
    "    'email': 'never.give.up@gmail.com',\n",
    "    'name': 'Rick Astley',\n",
    "    'hash': 'na'\n",
    "})"
   ]
  },
  {
   "cell_type": "code",
   "execution_count": 40,
   "id": "f5d3fbb7-e86a-4e90-b8c6-da2fd7a640fc",
   "metadata": {},
   "outputs": [],
   "source": [
    "for enrollment in passed:\n",
    "    student = enrollment.student\n",
    "\n",
    "    email = student.email\n",
    "    name = enrollment.certificate_name or enrollment.display_name\n",
    "    hash = compute_certificate_id(email)\n",
    "\n",
    "    url = certificate_url_template.format(hash=hash)\n",
    "    enrollment.certificate_url = url\n",
    "    \n",
    "    results.append({\n",
    "        'email': email,\n",
    "        'name': name,\n",
    "        'hash': hash\n",
    "    })"
   ]
  },
  {
   "cell_type": "code",
   "execution_count": 41,
   "id": "0805b6e0-d4b5-4b0e-aae6-78a0471b3a3c",
   "metadata": {},
   "outputs": [],
   "source": [
    "df = pd.DataFrame(results)\n",
    "df.to_csv(output, index=False)"
   ]
  },
  {
   "cell_type": "code",
   "execution_count": 43,
   "id": "f062751b-cffc-4d31-bd71-b52e7822450f",
   "metadata": {},
   "outputs": [
    {
     "data": {
      "text/plain": [
       "170"
      ]
     },
     "execution_count": 43,
     "metadata": {},
     "output_type": "execute_result"
    }
   ],
   "source": [
    "Enrollment.objects.bulk_update(passed, fields=['certificate_url'])"
   ]
  },
  {
   "cell_type": "code",
   "execution_count": null,
   "id": "2ff0e259-be51-4659-9a63-fb26f117e869",
   "metadata": {},
   "outputs": [],
   "source": []
  }
 ],
 "metadata": {
  "kernelspec": {
   "display_name": "Python 3 (ipykernel)",
   "language": "python",
   "name": "python3"
  },
  "language_info": {
   "codemirror_mode": {
    "name": "ipython",
    "version": 3
   },
   "file_extension": ".py",
   "mimetype": "text/x-python",
   "name": "python",
   "nbconvert_exporter": "python",
   "pygments_lexer": "ipython3",
   "version": "3.12.3"
  }
 },
 "nbformat": 4,
 "nbformat_minor": 5
}
