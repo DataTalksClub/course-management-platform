{
 "cells": [
  {
   "cell_type": "code",
   "execution_count": 1,
   "id": "f78701db",
   "metadata": {},
   "outputs": [
    {
     "name": "stdout",
     "output_type": "stream",
     "text": [
      "IS_LOCAL=True\n",
      "['C:\\\\Users\\\\alexe\\\\.virtualenvs\\\\course-management-platform-wiAsnpQu\\\\lib\\\\site-packages\\\\ipykernel_launcher.py', '-f', 'C:\\\\Users\\\\alexe\\\\AppData\\\\Roaming\\\\jupyter\\\\runtime\\\\kernel-afd44881-fc2d-4e6f-aa83-e0c21309ce18.json']\n",
      "Is test: False\n"
     ]
    }
   ],
   "source": [
    "import os\n",
    "os.chdir('..')\n",
    "\n",
    "os.environ[\"DJANGO_SETTINGS_MODULE\"] = \"course_management.settings\"\n",
    "os.environ[\"DJANGO_ALLOW_ASYNC_UNSAFE\"] = \"true\"\n",
    "os.environ[\"IS_LOCAL\"] = \"1\"\n",
    "\n",
    "import django\n",
    "django.setup()"
   ]
  },
  {
   "cell_type": "code",
   "execution_count": 2,
   "id": "b5075cf6-0c21-48b6-8d66-f9a85acbebd3",
   "metadata": {},
   "outputs": [],
   "source": [
    "from courses.models import ReviewCriteria, ReviewCriteriaTypes, Course"
   ]
  },
  {
   "cell_type": "code",
   "execution_count": 11,
   "id": "c7af9387-0c73-4b6d-a0db-e49bee7237fd",
   "metadata": {},
   "outputs": [],
   "source": [
    "criteria_data = [\n",
    "    {\n",
    "        \"description\": \"Problem description\",\n",
    "        \"type\": ReviewCriteriaTypes.RADIO_BUTTONS.value,\n",
    "        \"options\": [\n",
    "            {\"criteria\": \"The problem is not described\", \"score\": 0},\n",
    "            {\"criteria\": \"The problem is described but shortly or not clearly\", \"score\": 1},\n",
    "            {\"criteria\": \"The problem is well described and it's clear what the problem the project solves\", \"score\": 2},\n",
    "        ],\n",
    "    },\n",
    "    {\n",
    "        \"description\": \"Cloud\",\n",
    "        \"type\": ReviewCriteriaTypes.RADIO_BUTTONS.value,\n",
    "        \"options\": [\n",
    "            {\"criteria\": \"Cloud is not used, things run only locally\", \"score\": 0},\n",
    "            {\"criteria\": \"The project is developed in the cloud\", \"score\": 2},\n",
    "            {\"criteria\": \"The project is developed in the cloud and IaC tools are used\", \"score\": 4},\n",
    "        ],\n",
    "    },\n",
    "    {\n",
    "        \"description\": \"Data Ingestion: Batch / Workflow orchestration\",\n",
    "        \"type\": ReviewCriteriaTypes.RADIO_BUTTONS.value,\n",
    "        \"options\": [\n",
    "            {\"criteria\": \"No workflow orchestration\", \"score\": 0},\n",
    "            {\"criteria\": \"Partial workflow orchestration: some steps are orchestrated, some run manually\", \"score\": 2},\n",
    "            {\"criteria\": \"End-to-end pipeline: multiple steps in the DAG, uploading data to data lake\", \"score\": 4},\n",
    "        ],\n",
    "    },\n",
    "    {\n",
    "        \"description\": \"Data Ingestion: Stream\",\n",
    "        \"type\": ReviewCriteriaTypes.RADIO_BUTTONS.value,\n",
    "        \"options\": [\n",
    "            {\"criteria\": \"No streaming system (like Kafka, Pulsar, etc)\", \"score\": 0},\n",
    "            {\"criteria\": \"A simple pipeline with one consumer and one producer\", \"score\": 2},\n",
    "            {\"criteria\": \"Using consumer/producers and streaming technologies (like Kafka streaming, Spark streaming, Flink, etc)\", \"score\": 4},\n",
    "        ],\n",
    "    },\n",
    "    {\n",
    "        \"description\": \"Data warehouse\",\n",
    "        \"type\": ReviewCriteriaTypes.RADIO_BUTTONS.value,\n",
    "        \"options\": [\n",
    "            {\"criteria\": \"No DWH is used\", \"score\": 0},\n",
    "            {\"criteria\": \"Tables are created in DWH, but not optimized\", \"score\": 2},\n",
    "            {\"criteria\": \"Tables are partitioned and clustered in a way that makes sense for the upstream queries (with explanation)\", \"score\": 4},\n",
    "        ],\n",
    "    },\n",
    "    {\n",
    "        \"description\": \"Transformations (dbt, spark, etc)\",\n",
    "        \"type\": ReviewCriteriaTypes.RADIO_BUTTONS.value,\n",
    "        \"options\": [\n",
    "            {\"criteria\": \"No transformations\", \"score\": 0},\n",
    "            {\"criteria\": \"Simple SQL transformation (no dbt or similar tools)\", \"score\": 2},\n",
    "            {\"criteria\": \"Transformations are defined with dbt, Spark or similar technologies\", \"score\": 4},\n",
    "        ],\n",
    "    },\n",
    "    {\n",
    "        \"description\": \"Dashboard\",\n",
    "        \"type\": ReviewCriteriaTypes.RADIO_BUTTONS.value,\n",
    "        \"options\": [\n",
    "            {\"criteria\": \"No dashboard\", \"score\": 0},\n",
    "            {\"criteria\": \"A dashboard with 1 tile\", \"score\": 2},\n",
    "            {\"criteria\": \"A dashboard with 2 tiles\", \"score\": 4},\n",
    "        ],\n",
    "    },\n",
    "    {\n",
    "        \"description\": \"Reproducibility\",\n",
    "        \"type\": ReviewCriteriaTypes.RADIO_BUTTONS.value,\n",
    "        \"options\": [\n",
    "            {\"criteria\": \"No instructions how to run the code at all\", \"score\": 0},\n",
    "            {\"criteria\": \"Some instructions are there, but they are not complete\", \"score\": 2},\n",
    "            {\"criteria\": \"Instructions are clear, it's easy to run the code, and the code works\", \"score\": 4},\n",
    "        ],\n",
    "    },\n",
    "]\n"
   ]
  },
  {
   "cell_type": "code",
   "execution_count": 12,
   "id": "17b60095-1441-4a25-ad94-f2dd1cad5963",
   "metadata": {},
   "outputs": [],
   "source": [
    "course = Course.objects.get(id=1)"
   ]
  },
  {
   "cell_type": "code",
   "execution_count": 13,
   "id": "c79f9b3f-3545-4f62-b777-549d10be5908",
   "metadata": {},
   "outputs": [
    {
     "data": {
      "text/plain": [
       "(2, {'courses.ReviewCriteria': 2})"
      ]
     },
     "execution_count": 13,
     "metadata": {},
     "output_type": "execute_result"
    }
   ],
   "source": [
    "review_criteria = ReviewCriteria.objects.filter(course=course)\n",
    "review_criteria.delete()"
   ]
  },
  {
   "cell_type": "code",
   "execution_count": 14,
   "id": "dd12488e-ae27-4c4e-9c26-2ddc933e5694",
   "metadata": {},
   "outputs": [],
   "source": [
    "for criterion in criteria_data:\n",
    "    ReviewCriteria.objects.create(\n",
    "        course=course,\n",
    "        description=criterion[\"description\"],\n",
    "        review_criteria_type=criterion[\"type\"],\n",
    "        options=criterion[\"options\"],\n",
    "        max_score=4\n",
    "    )"
   ]
  },
  {
   "cell_type": "code",
   "execution_count": 15,
   "id": "288bd72c-75db-43cc-b592-ffffffb5cb0d",
   "metadata": {},
   "outputs": [
    {
     "data": {
      "text/plain": [
       "{'description': 'Reproducibility',\n",
       " 'type': 'RB',\n",
       " 'options': [{'criteria': 'No instructions how to run the code at all',\n",
       "   'score': 0},\n",
       "  {'criteria': 'Some instructions are there, but they are not complete',\n",
       "   'score': 2},\n",
       "  {'criteria': \"Instructions are clear, it's easy to run the code, and the code works\",\n",
       "   'score': 4}]}"
      ]
     },
     "execution_count": 15,
     "metadata": {},
     "output_type": "execute_result"
    }
   ],
   "source": [
    "criterion"
   ]
  },
  {
   "cell_type": "code",
   "execution_count": null,
   "id": "e4acd82d-64e8-4593-9c1b-17193b3a6f08",
   "metadata": {},
   "outputs": [],
   "source": []
  }
 ],
 "metadata": {
  "kernelspec": {
   "display_name": "Python 3 (ipykernel)",
   "language": "python",
   "name": "python3"
  },
  "language_info": {
   "codemirror_mode": {
    "name": "ipython",
    "version": 3
   },
   "file_extension": ".py",
   "mimetype": "text/x-python",
   "name": "python",
   "nbconvert_exporter": "python",
   "pygments_lexer": "ipython3",
   "version": "3.9.13"
  }
 },
 "nbformat": 4,
 "nbformat_minor": 5
}
