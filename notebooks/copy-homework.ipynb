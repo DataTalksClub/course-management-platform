{
 "cells": [
  {
   "cell_type": "code",
   "execution_count": 1,
   "id": "f78701db",
   "metadata": {},
   "outputs": [
    {
     "name": "stdout",
     "output_type": "stream",
     "text": [
      "IS_LOCAL=True\n",
      "['C:\\\\Users\\\\alexe\\\\git\\\\course-management-platform\\\\.venv\\\\Lib\\\\site-packages\\\\ipykernel_launcher.py', '-f', 'C:\\\\Users\\\\alexe\\\\AppData\\\\Roaming\\\\jupyter\\\\runtime\\\\kernel-d0476a49-e77a-4a1f-9edd-54f6f4169085.json']\n",
      "Is test: False\n"
     ]
    }
   ],
   "source": [
    "import os\n",
    "os.chdir('..')\n",
    "\n",
    "os.environ[\"DJANGO_SETTINGS_MODULE\"] = \"course_management.settings\"\n",
    "os.environ[\"DJANGO_ALLOW_ASYNC_UNSAFE\"] = \"true\"\n",
    "os.environ[\"IS_LOCAL\"] = \"1\"\n",
    "\n",
    "import django\n",
    "django.setup()"
   ]
  },
  {
   "cell_type": "code",
   "execution_count": 2,
   "id": "c7af9387-0c73-4b6d-a0db-e49bee7237fd",
   "metadata": {},
   "outputs": [],
   "source": [
    "from courses.models import *"
   ]
  },
  {
   "cell_type": "code",
   "execution_count": 3,
   "id": "bfc4ba99-14bc-44ec-8a23-d3d3b4b0c3cd",
   "metadata": {},
   "outputs": [
    {
     "data": {
      "text/plain": [
       "<Course: MLOps Zoomcamp 2024>"
      ]
     },
     "execution_count": 3,
     "metadata": {},
     "output_type": "execute_result"
    }
   ],
   "source": [
    "old_course = Course.objects.get(id=3)\n",
    "old_course"
   ]
  },
  {
   "cell_type": "code",
   "execution_count": 4,
   "id": "7d5c51cd-d4c4-4164-8e07-bc863696245b",
   "metadata": {},
   "outputs": [
    {
     "data": {
      "text/plain": [
       "<Course: MLOps Zoomcamp 2025>"
      ]
     },
     "execution_count": 4,
     "metadata": {},
     "output_type": "execute_result"
    }
   ],
   "source": [
    "new_course = Course.objects.get(id=7)\n",
    "new_course"
   ]
  },
  {
   "cell_type": "code",
   "execution_count": 29,
   "id": "acfc1fe7-380e-4313-ad31-1043c748a114",
   "metadata": {},
   "outputs": [
    {
     "data": {
      "text/plain": [
       "<Homework: MLOps Zoomcamp 2024 - Homework 6: Best Practices>"
      ]
     },
     "execution_count": 29,
     "metadata": {},
     "output_type": "execute_result"
    }
   ],
   "source": [
    "homework = Homework.objects.get(id=17)\n",
    "homework"
   ]
  },
  {
   "cell_type": "code",
   "execution_count": 30,
   "id": "05bc1ee5-7d7b-4a3a-8d45-fe748be492aa",
   "metadata": {},
   "outputs": [],
   "source": [
    "new_homework = Homework.objects.create(\n",
    "    slug=homework.slug,\n",
    "    course=new_course,\n",
    "    title=homework.title,\n",
    "    description=homework.description,\n",
    "    due_date=homework.due_date,\n",
    "    learning_in_public_cap=homework.learning_in_public_cap,\n",
    "    homework_url_field=homework.homework_url_field,\n",
    "    time_spent_lectures_field=homework.time_spent_lectures_field,\n",
    "    time_spent_homework_field=homework.time_spent_homework_field,\n",
    "    faq_contribution_field=homework.faq_contribution_field,\n",
    "    state=HomeworkState.CLOSED.value\n",
    ")\n",
    "\n",
    "for q in homework.question_set.all():\n",
    "    Question.objects.create(\n",
    "        homework=new_homework,\n",
    "        text=q.text,\n",
    "        question_type=q.question_type,\n",
    "        answer_type=q.answer_type,\n",
    "        possible_answers=q.possible_answers,\n",
    "        correct_answer=q.correct_answer,\n",
    "        scores_for_correct_answer=q.scores_for_correct_answer,\n",
    "    )"
   ]
  },
  {
   "cell_type": "code",
   "execution_count": 24,
   "id": "f8958cc6-55ef-46c1-a279-c42fd023455c",
   "metadata": {},
   "outputs": [],
   "source": []
  },
  {
   "cell_type": "code",
   "execution_count": null,
   "id": "189f1499-0264-49f4-8cd2-6dbefc47e0d5",
   "metadata": {},
   "outputs": [],
   "source": []
  }
 ],
 "metadata": {
  "kernelspec": {
   "display_name": "Python 3 (ipykernel)",
   "language": "python",
   "name": "python3"
  },
  "language_info": {
   "codemirror_mode": {
    "name": "ipython",
    "version": 3
   },
   "file_extension": ".py",
   "mimetype": "text/x-python",
   "name": "python",
   "nbconvert_exporter": "python",
   "pygments_lexer": "ipython3",
   "version": "3.12.3"
  }
 },
 "nbformat": 4,
 "nbformat_minor": 5
}
