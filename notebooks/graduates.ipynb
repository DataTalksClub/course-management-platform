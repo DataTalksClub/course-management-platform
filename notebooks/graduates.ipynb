{
 "cells": [
  {
   "cell_type": "code",
   "execution_count": 1,
   "id": "f78701db",
   "metadata": {},
   "outputs": [
    {
     "name": "stdout",
     "output_type": "stream",
     "text": [
      "IS_LOCAL=True\n",
      "['C:\\\\Users\\\\alexe\\\\git\\\\course-management-platform\\\\.venv\\\\lib\\\\site-packages\\\\ipykernel_launcher.py', '-f', 'C:\\\\Users\\\\alexe\\\\AppData\\\\Roaming\\\\jupyter\\\\runtime\\\\kernel-67732be5-d07a-4ce6-a7b6-13aa7f4bebac.json']\n",
      "Is test: False\n"
     ]
    }
   ],
   "source": [
    "import os\n",
    "os.chdir('..')\n",
    "\n",
    "os.environ[\"DJANGO_SETTINGS_MODULE\"] = \"course_management.settings\"\n",
    "os.environ[\"DJANGO_ALLOW_ASYNC_UNSAFE\"] = \"true\"\n",
    "os.environ[\"IS_LOCAL\"] = \"1\"\n",
    "\n",
    "import django\n",
    "django.setup()"
   ]
  },
  {
   "cell_type": "code",
   "execution_count": 2,
   "id": "c7af9387-0c73-4b6d-a0db-e49bee7237fd",
   "metadata": {},
   "outputs": [],
   "source": [
    "from courses.models import *"
   ]
  },
  {
   "cell_type": "code",
   "execution_count": 5,
   "id": "bfc4ba99-14bc-44ec-8a23-d3d3b4b0c3cd",
   "metadata": {},
   "outputs": [
    {
     "name": "stdout",
     "output_type": "stream",
     "text": [
      "MLOps Zoomcamp 2024\n"
     ]
    }
   ],
   "source": [
    "course = Course.objects.get(id=3)\n",
    "print(course)"
   ]
  },
  {
   "cell_type": "code",
   "execution_count": 21,
   "id": "54973484-3246-442a-b9b7-f5c675157221",
   "metadata": {},
   "outputs": [],
   "source": [
    "output = r'C:\\Users\\alexe\\git\\zoomcamp-scoring\\certificates\\courses\\mlopszoomcamp-2024\\graduates.csv'"
   ]
  },
  {
   "cell_type": "code",
   "execution_count": 6,
   "id": "c6798c0f-726d-4469-a8ac-f0d257252b30",
   "metadata": {},
   "outputs": [],
   "source": [
    "graduates = ProjectSubmission.objects.filter(project__course=course, passed=True)"
   ]
  },
  {
   "cell_type": "code",
   "execution_count": 7,
   "id": "df384f6b-9c4f-4abe-879b-9a5787ee4279",
   "metadata": {},
   "outputs": [
    {
     "data": {
      "text/plain": [
       "138"
      ]
     },
     "execution_count": 7,
     "metadata": {},
     "output_type": "execute_result"
    }
   ],
   "source": [
    "len(graduates)"
   ]
  },
  {
   "cell_type": "code",
   "execution_count": 8,
   "id": "3e110177-ce48-4e92-bda0-4149ce14c7a6",
   "metadata": {},
   "outputs": [],
   "source": [
    "from hashlib import sha1\n",
    "\n",
    "def compute_hash(email):\n",
    "    return sha1(email.encode('utf-8')).hexdigest()\n",
    "\n",
    "def compute_certificate_id(email):\n",
    "    email_clean = email.lower().strip()\n",
    "    return compute_hash(email_clean + '_')"
   ]
  },
  {
   "cell_type": "code",
   "execution_count": null,
   "id": "dc3dadd6-63e8-4345-b91f-163e7d8e4093",
   "metadata": {},
   "outputs": [],
   "source": [
    "import pandas as pd"
   ]
  },
  {
   "cell_type": "code",
   "execution_count": 15,
   "id": "9186edcf-027f-4a2f-bdc4-92882b3e29bd",
   "metadata": {},
   "outputs": [],
   "source": [
    "results = []\n",
    "\n",
    "results.append({\n",
    "    'email': 'never.give.up@gmail.com',\n",
    "    'name': 'Rick Astley',\n",
    "    'hash': 'na'\n",
    "})"
   ]
  },
  {
   "cell_type": "code",
   "execution_count": 16,
   "id": "f5d3fbb7-e86a-4e90-b8c6-da2fd7a640fc",
   "metadata": {},
   "outputs": [],
   "source": [
    "seen = set()\n",
    "\n",
    "for submission in graduates:\n",
    "    enrollment = submission.enrollment\n",
    "    student = enrollment.student\n",
    "\n",
    "    email = student.email\n",
    "    name = enrollment.certificate_name or enrollment.display_name\n",
    "    hash = compute_certificate_id(email)\n",
    "\n",
    "    if email in seen:\n",
    "        continue\n",
    "\n",
    "    seen.add(email)\n",
    "    \n",
    "    results.append({\n",
    "        'email': email,\n",
    "        'name': name,\n",
    "        'hash': hash\n",
    "    })"
   ]
  },
  {
   "cell_type": "code",
   "execution_count": 17,
   "id": "0805b6e0-d4b5-4b0e-aae6-78a0471b3a3c",
   "metadata": {},
   "outputs": [],
   "source": [
    "df = pd.DataFrame(results)"
   ]
  },
  {
   "cell_type": "code",
   "execution_count": 22,
   "id": "79b1a4ff-2662-472a-899a-fd17a1f4954d",
   "metadata": {},
   "outputs": [],
   "source": [
    "df.to_csv(output, index=False)"
   ]
  },
  {
   "cell_type": "code",
   "execution_count": null,
   "id": "f062751b-cffc-4d31-bd71-b52e7822450f",
   "metadata": {},
   "outputs": [],
   "source": []
  }
 ],
 "metadata": {
  "kernelspec": {
   "display_name": "Python 3 (ipykernel)",
   "language": "python",
   "name": "python3"
  },
  "language_info": {
   "codemirror_mode": {
    "name": "ipython",
    "version": 3
   },
   "file_extension": ".py",
   "mimetype": "text/x-python",
   "name": "python",
   "nbconvert_exporter": "python",
   "pygments_lexer": "ipython3",
   "version": "3.9.13"
  }
 },
 "nbformat": 4,
 "nbformat_minor": 5
}
