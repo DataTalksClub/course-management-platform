{
 "cells": [
  {
   "cell_type": "code",
   "execution_count": 1,
   "id": "f78701db",
   "metadata": {},
   "outputs": [
    {
     "name": "stdout",
     "output_type": "stream",
     "text": [
      "IS_LOCAL=True\n",
      "['C:\\\\Users\\\\alexe\\\\.virtualenvs\\\\course-management-platform-wiAsnpQu\\\\Lib\\\\site-packages\\\\ipykernel_launcher.py', '-f', 'C:\\\\Users\\\\alexe\\\\AppData\\\\Roaming\\\\jupyter\\\\runtime\\\\kernel-73ad15b8-6d74-4ffd-af50-afb015a5966e.json']\n",
      "Is test: False\n"
     ]
    }
   ],
   "source": [
    "import os\n",
    "os.chdir('..')\n",
    "\n",
    "os.environ[\"DJANGO_SETTINGS_MODULE\"] = \"course_management.settings\"\n",
    "os.environ[\"DJANGO_ALLOW_ASYNC_UNSAFE\"] = \"true\"\n",
    "os.environ[\"IS_LOCAL\"] = \"1\"\n",
    "\n",
    "import django\n",
    "django.setup()"
   ]
  },
  {
   "cell_type": "code",
   "execution_count": 2,
   "id": "02e2d90a-8a86-4fed-ab3d-38c713fb0727",
   "metadata": {},
   "outputs": [],
   "source": [
    "from collections import Counter\n",
    "import pandas as pd"
   ]
  },
  {
   "cell_type": "code",
   "execution_count": 3,
   "id": "c7af9387-0c73-4b6d-a0db-e49bee7237fd",
   "metadata": {},
   "outputs": [],
   "source": [
    "from courses.models import *"
   ]
  },
  {
   "cell_type": "code",
   "execution_count": 4,
   "id": "bfc4ba99-14bc-44ec-8a23-d3d3b4b0c3cd",
   "metadata": {},
   "outputs": [
    {
     "name": "stdout",
     "output_type": "stream",
     "text": [
      "Machine Learning Zoomcamp 2024\n"
     ]
    }
   ],
   "source": [
    "course = Course.objects.get(id=5)\n",
    "print(course)"
   ]
  },
  {
   "cell_type": "code",
   "execution_count": 25,
   "id": "db5cef40-76cf-4ff7-a1f5-3cacf8477137",
   "metadata": {},
   "outputs": [],
   "source": [
    "min_projects = 2"
   ]
  },
  {
   "cell_type": "code",
   "execution_count": 12,
   "id": "c6798c0f-726d-4469-a8ac-f0d257252b30",
   "metadata": {},
   "outputs": [],
   "source": [
    "submissions = ProjectSubmission.objects \\\n",
    "    .filter(project__course=course, github_link__icontains=\"shivahamidi\")"
   ]
  },
  {
   "cell_type": "code",
   "execution_count": 13,
   "id": "9578fa0c-61f6-4539-969f-4feb38251e56",
   "metadata": {},
   "outputs": [
    {
     "data": {
      "text/plain": [
       "3"
      ]
     },
     "execution_count": 13,
     "metadata": {},
     "output_type": "execute_result"
    }
   ],
   "source": [
    "len(submissions)"
   ]
  },
  {
   "cell_type": "code",
   "execution_count": 19,
   "id": "857e321f-a516-4de1-97f6-c715647c63b1",
   "metadata": {},
   "outputs": [
    {
     "name": "stdout",
     "output_type": "stream",
     "text": [
      "https://github.com/shivahamidi/mlzoomcamp-capstone1 True\n",
      "https://github.com/shivahamidi/mlZoomcamp-capstone2.git True\n",
      "https://github.com/shivahamidi/MLZoomcamp_midterm_project False\n"
     ]
    }
   ],
   "source": [
    "for s in submissions:\n",
    "    print(s.github_link, s.passed)"
   ]
  },
  {
   "cell_type": "code",
   "execution_count": 20,
   "id": "8159a319-8b4b-49fe-853e-e88eadf53c19",
   "metadata": {},
   "outputs": [],
   "source": [
    "e = submissions[0].enrollment"
   ]
  },
  {
   "cell_type": "code",
   "execution_count": 24,
   "id": "ae7654e4-6146-4534-a982-1564dcf6c8d1",
   "metadata": {},
   "outputs": [
    {
     "data": {
      "text/plain": [
       "'Shiva Hamdi Fard'"
      ]
     },
     "execution_count": 24,
     "metadata": {},
     "output_type": "execute_result"
    }
   ],
   "source": [
    "e.display_name"
   ]
  },
  {
   "cell_type": "code",
   "execution_count": 35,
   "id": "604889b7-11c8-4dfb-b962-fd4042a51ddb",
   "metadata": {},
   "outputs": [
    {
     "data": {
      "text/plain": [
       "<Enrollment: hamidishiva20@gmail.com enrolled in Machine Learning Zoomcamp 2024>"
      ]
     },
     "execution_count": 35,
     "metadata": {},
     "output_type": "execute_result"
    }
   ],
   "source": [
    "e"
   ]
  },
  {
   "cell_type": "code",
   "execution_count": 29,
   "id": "dc613c6b-79b8-4659-9151-58ceab9d4b09",
   "metadata": {},
   "outputs": [
    {
     "data": {
      "text/plain": [
       "(266,\n",
       " {'courses.CriteriaResponse': 171,\n",
       "  'courses.ProjectEvaluationScore': 27,\n",
       "  'courses.Answer': 38,\n",
       "  'courses.PeerReview': 20,\n",
       "  'courses.Submission': 6,\n",
       "  'courses.ProjectSubmission': 3,\n",
       "  'courses.Enrollment': 1})"
      ]
     },
     "execution_count": 29,
     "metadata": {},
     "output_type": "execute_result"
    }
   ],
   "source": [
    "e.delete()"
   ]
  }
 ],
 "metadata": {
  "kernelspec": {
   "display_name": "Python 3 (ipykernel)",
   "language": "python",
   "name": "python3"
  },
  "language_info": {
   "codemirror_mode": {
    "name": "ipython",
    "version": 3
   },
   "file_extension": ".py",
   "mimetype": "text/x-python",
   "name": "python",
   "nbconvert_exporter": "python",
   "pygments_lexer": "ipython3",
   "version": "3.12.3"
  }
 },
 "nbformat": 4,
 "nbformat_minor": 5
}
