{
 "cells": [
  {
   "cell_type": "code",
   "execution_count": 1,
   "id": "f78701db",
   "metadata": {},
   "outputs": [
    {
     "name": "stdout",
     "output_type": "stream",
     "text": [
      "IS_LOCAL=True\n",
      "['C:\\\\Users\\\\alexe\\\\.virtualenvs\\\\course-management-platform-wiAsnpQu\\\\lib\\\\site-packages\\\\ipykernel_launcher.py', '-f', 'C:\\\\Users\\\\alexe\\\\AppData\\\\Roaming\\\\jupyter\\\\runtime\\\\kernel-4fa5bab0-9c8f-43e8-a32a-cc867114ed77.json']\n",
      "Is test: False\n"
     ]
    }
   ],
   "source": [
    "import os\n",
    "os.chdir('..')\n",
    "\n",
    "os.environ[\"DJANGO_SETTINGS_MODULE\"] = \"course_management.settings\"\n",
    "os.environ[\"DJANGO_ALLOW_ASYNC_UNSAFE\"] = \"true\"\n",
    "os.environ[\"IS_LOCAL\"] = \"1\"\n",
    "\n",
    "import django\n",
    "django.setup()"
   ]
  },
  {
   "cell_type": "code",
   "execution_count": 2,
   "id": "c7af9387-0c73-4b6d-a0db-e49bee7237fd",
   "metadata": {},
   "outputs": [],
   "source": [
    "from courses.models import *"
   ]
  },
  {
   "cell_type": "code",
   "execution_count": 3,
   "id": "6758899b-31e5-479b-bf03-be9be03d439b",
   "metadata": {},
   "outputs": [],
   "source": [
    "from collections import defaultdict\n",
    "\n",
    "import pandas as pd\n",
    "\n",
    "from django.forms.models import model_to_dict\n",
    "from tqdm.auto import tqdm"
   ]
  },
  {
   "cell_type": "code",
   "execution_count": 5,
   "id": "bf067f4c-6a96-4676-8792-3a4c5502a4a8",
   "metadata": {},
   "outputs": [],
   "source": [
    "course = Course.objects.get(slug='de-zoomcamp-2024')\n",
    "homework = Homework.objects.get(course=course, slug='leaderboard')"
   ]
  },
  {
   "cell_type": "code",
   "execution_count": 15,
   "id": "2b4ba722-e9eb-4074-920a-691de4fe5de1",
   "metadata": {},
   "outputs": [],
   "source": [
    "enrollments = Enrollment.objects.filter(course=course)\n",
    "df_enrollments = pd.DataFrame(enrollments.values())\n",
    "\n",
    "df_enrollments = df_enrollments.sort_values(by='position_on_leaderboard')\n",
    "cutoff_score = df_enrollments.iloc[99].total_score\n",
    "df_public_leaderboard = df_enrollments[df_enrollments.total_score >= cutoff_score]"
   ]
  },
  {
   "cell_type": "code",
   "execution_count": 27,
   "id": "8981e4d1-c009-4c8c-aff7-ce8a32d484b0",
   "metadata": {},
   "outputs": [
    {
     "name": "stderr",
     "output_type": "stream",
     "text": [
      "100%|████████████████████████████████████████████████████████████| 102/102 [00:09<00:00, 10.32it/s]\n"
     ]
    }
   ],
   "source": [
    "data_by_enrollment = {}\n",
    "enrollments = []\n",
    "\n",
    "submissions = homework.submission_set.all()\n",
    "\n",
    "for submission in tqdm(submissions):\n",
    "    e = submission.enrollment\n",
    "\n",
    "    submission_dict = {\n",
    "        \"answers\": list(\n",
    "            submission.answer_set.values(\n",
    "                \"question_id\", \"answer_text\"\n",
    "            )\n",
    "        ),\n",
    "    }\n",
    "\n",
    "    data_by_enrollment[e.id] = submission_dict\n",
    "    enrollments.append(e)"
   ]
  },
  {
   "cell_type": "code",
   "execution_count": 32,
   "id": "dfd4ac28-a5bc-4003-abcb-14f91fe3ba94",
   "metadata": {},
   "outputs": [],
   "source": [
    "projects = ProjectSubmission.objects.filter(enrollment__in=enrollments)\n",
    "\n",
    "projects_by_student = defaultdict(list)\n",
    "\n",
    "for p in projects:\n",
    "    projects_by_student[p.enrollment_id].append(p.github_link)"
   ]
  },
  {
   "cell_type": "code",
   "execution_count": 48,
   "id": "4b8f6176-3044-40f4-8c8e-5dc704ed6f60",
   "metadata": {},
   "outputs": [],
   "source": [
    "question_ids = {\n",
    "    58: 'github',\n",
    "    59: 'linkedin',\n",
    "    60: 'include_projects',\n",
    "    61: 'comment',\n",
    "}"
   ]
  },
  {
   "cell_type": "code",
   "execution_count": 49,
   "id": "a6bf8b9d-f732-4122-8b70-63d359743504",
   "metadata": {},
   "outputs": [],
   "source": [
    "leaderboard = df_public_leaderboard.to_dict(orient='records')"
   ]
  },
  {
   "cell_type": "code",
   "execution_count": 87,
   "id": "0bd31fb8-3d05-4527-834a-57c0f20cd7ac",
   "metadata": {},
   "outputs": [],
   "source": [
    "records = []\n",
    "\n",
    "for s in leaderboard:\n",
    "    e_id = s['id']\n",
    "    name = s['certificate_name'] or s['display_name']\n",
    "    score = s['total_score']\n",
    "\n",
    "    record = {\n",
    "        'name': name,\n",
    "        'score': score,\n",
    "    }\n",
    "\n",
    "    data = data_by_enrollment.get(e_id)\n",
    "\n",
    "    if not data:\n",
    "        record['name'] = s['display_name']\n",
    "    if data:\n",
    "        for a in data['answers']:\n",
    "            q_id = a['question_id']\n",
    "            if q_id not in question_ids:\n",
    "                continue\n",
    "        \n",
    "            q = question_ids[q_id]\n",
    "            \n",
    "            if q == 'include_projects' and a['answer_text'] == '1':\n",
    "                record['projects'] = projects_by_student[e_id]\n",
    "            else:\n",
    "                record[q] = a['answer_text'] \n",
    "\n",
    "    records.append(record)\n"
   ]
  },
  {
   "cell_type": "code",
   "execution_count": 88,
   "id": "5be365f7-4e8f-46ba-8bab-b0022254eaa8",
   "metadata": {},
   "outputs": [
    {
     "data": {
      "text/plain": [
       "[{'name': 'Ashraf Mohammad',\n",
       "  'score': 219,\n",
       "  'github': 'www.github.com/Ashraf1395',\n",
       "  'linkedin': 'www.linkedin.com/in/ashraf1395',\n",
       "  'projects': ['https://github.com/Ashraf1395/customer_retention_analytics',\n",
       "   'https://github.com/Ashraf1395/supply_chain_finance.git'],\n",
       "  'comment': 'Really Recommend this bootcamp , if you want to get hands on data engineering experience.     My two Capstone project: www.github.com/Ashraf1395/supply_chain_finance, www.github.com/Ashraf1395/customer_retention_analytics'},\n",
       " {'name': 'Jorge Vladimir Abrego Arevalo',\n",
       "  'score': 212,\n",
       "  'github': 'https://github.com/JorgeAbrego',\n",
       "  'linkedin': 'https://www.linkedin.com/in/jorge-abrego/',\n",
       "  'projects': ['https://github.com/JorgeAbrego/weather_stream_project',\n",
       "   'https://github.com/JorgeAbrego/capital_bikeshare_project'],\n",
       "  'comment': ''},\n",
       " {'name': 'Purnendu Shekhar Shukla', 'score': 194},\n",
       " {'name': 'Krishna Anand',\n",
       "  'score': 188,\n",
       "  'projects': ['https://github.com/anandaiml19/DE_Zoomcamp_Project2/tree/main',\n",
       "   'https://github.com/anandaiml19/Data-Engineering-Zoomcamp-Project1'],\n",
       "  'github': 'https://github.com/anandaiml19',\n",
       "  'linkedin': 'https://www.linkedin.com/in/krishna-anand-v-g-70bba623/',\n",
       "  'comment': ''},\n",
       " {'name': 'Abhijit Chakraborty', 'score': 155}]"
      ]
     },
     "execution_count": 88,
     "metadata": {},
     "output_type": "execute_result"
    }
   ],
   "source": [
    "records[:5]"
   ]
  },
  {
   "cell_type": "code",
   "execution_count": 89,
   "id": "117587fc-0e4d-4efb-bf17-f5b1bee0d3a5",
   "metadata": {},
   "outputs": [],
   "source": [
    "icon_prefix = 'https://user-images.githubusercontent.com/875246'\n",
    "\n",
    "github_icon_url = f'{icon_prefix}/192300611-a606521b-cb76-4090-be8e-7cc21752b996.png'\n",
    "linkedin_icon_url = f'{icon_prefix}/192300614-2ce22ed5-bbc4-4684-8098-d8128d71aac5.png'\n",
    "\n",
    "github_icon = f'<img src=\"{github_icon_url}\" height=\"16em\" />'\n",
    "linkedin_icon = f'<img src=\"{linkedin_icon_url}\" height=\"16em\" />'"
   ]
  },
  {
   "cell_type": "code",
   "execution_count": 94,
   "id": "44e56027-fb1b-4047-930e-ff727137b65e",
   "metadata": {},
   "outputs": [
    {
     "data": {
      "text/plain": [
       "265"
      ]
     },
     "execution_count": 94,
     "metadata": {},
     "output_type": "execute_result"
    }
   ],
   "source": [
    "f_out = open('notebooks/leaderboard.md', 'w', encoding='utf-8')\n",
    "\n",
    "f_out.write(f\"\"\"## Leaderboard \n",
    "\n",
    "This is the top [100 leaderboard](https://courses.datatalks.club/{course.slug}/leaderboard)\n",
    "of participants of {course.title} edition!\n",
    "\n",
    "<table>\n",
    "<tr>\n",
    "  <th>Name</th>\n",
    "  <th>Projects</th>\n",
    "  <th>Social</th>\n",
    "  <th>Comments</th>\n",
    "</tr>\n",
    "\"\"\")"
   ]
  },
  {
   "cell_type": "code",
   "execution_count": 95,
   "id": "0fa56c20-d330-46df-b875-3acd9180dd38",
   "metadata": {},
   "outputs": [],
   "source": [
    "for record in records:\n",
    "    line = '<tr>\\n'\n",
    "\n",
    "    line = line + f'  <td>{record[\"name\"]}</td>\\n'\n",
    "\n",
    "    projects = record.get('projects', [])\n",
    "\n",
    "    projects_line = ''\n",
    "\n",
    "    for p in projects:\n",
    "        projects_line += f' <a href=\"{p}\">{github_icon}</a>'\n",
    "    \n",
    "    line = line + f'  <td>{projects_line}</a></td>\\n'\n",
    "\n",
    "    social = ''\n",
    "    \n",
    "    if record.get(\"linkedin\"):\n",
    "        social = social + f' <a href=\"{record[\"linkedin\"]}\">{linkedin_icon}</a>'\n",
    "\n",
    "    if record.get(\"github\"):\n",
    "        social = social + f' <a href=\"{record[\"github\"]}\">{github_icon}</a>'\n",
    "\n",
    "    line = line + f'  <td>{social}</td>\\n'\n",
    "\n",
    "\n",
    "    comment = ''\n",
    "\n",
    "    if record.get(\"comment\"):\n",
    "        comment = f'<details>\\n<summary>comment</summary>\\n{record[\"comment\"]}\\n</details>'\n",
    "\n",
    "    line = line + f'  <td>{comment}</td>\\n'\n",
    "    line = line + '</tr>\\n'\n",
    "\n",
    "    f_out.write(line)\n",
    "\n",
    "f_out.write('</table>\\n')\n",
    "\n",
    "f_out.close()"
   ]
  },
  {
   "cell_type": "code",
   "execution_count": null,
   "id": "319c589e-9b4d-47fe-a96f-63d1cd22abed",
   "metadata": {},
   "outputs": [],
   "source": []
  }
 ],
 "metadata": {
  "kernelspec": {
   "display_name": "Python 3 (ipykernel)",
   "language": "python",
   "name": "python3"
  },
  "language_info": {
   "codemirror_mode": {
    "name": "ipython",
    "version": 3
   },
   "file_extension": ".py",
   "mimetype": "text/x-python",
   "name": "python",
   "nbconvert_exporter": "python",
   "pygments_lexer": "ipython3",
   "version": "3.9.13"
  }
 },
 "nbformat": 4,
 "nbformat_minor": 5
}
