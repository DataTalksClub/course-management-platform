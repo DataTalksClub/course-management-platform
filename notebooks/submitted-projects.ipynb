{
 "cells": [
  {
   "cell_type": "code",
   "execution_count": 1,
   "id": "f78701db",
   "metadata": {},
   "outputs": [
    {
     "name": "stdout",
     "output_type": "stream",
     "text": [
      "IS_LOCAL=True\n",
      "['C:\\\\Users\\\\alexe\\\\.virtualenvs\\\\course-management-platform-wiAsnpQu\\\\lib\\\\site-packages\\\\ipykernel_launcher.py', '-f', 'C:\\\\Users\\\\alexe\\\\AppData\\\\Roaming\\\\jupyter\\\\runtime\\\\kernel-817d394a-9cee-4555-a0de-dde7117e5822.json']\n",
      "Is test: False\n"
     ]
    }
   ],
   "source": [
    "import os\n",
    "os.chdir('..')\n",
    "\n",
    "os.environ[\"DJANGO_SETTINGS_MODULE\"] = \"course_management.settings\"\n",
    "os.environ[\"DJANGO_ALLOW_ASYNC_UNSAFE\"] = \"true\"\n",
    "os.environ[\"IS_LOCAL\"] = \"1\"\n",
    "\n",
    "import django\n",
    "django.setup()"
   ]
  },
  {
   "cell_type": "code",
   "execution_count": 2,
   "id": "c7af9387-0c73-4b6d-a0db-e49bee7237fd",
   "metadata": {},
   "outputs": [],
   "source": [
    "from courses.models import *"
   ]
  },
  {
   "cell_type": "code",
   "execution_count": 3,
   "id": "17074b53-da07-4739-96ea-4f9ffa32f2b6",
   "metadata": {},
   "outputs": [],
   "source": [
    "from django.forms.models import model_to_dict"
   ]
  },
  {
   "cell_type": "code",
   "execution_count": 19,
   "id": "bfc4ba99-14bc-44ec-8a23-d3d3b4b0c3cd",
   "metadata": {},
   "outputs": [],
   "source": [
    "# course = Course.objects.get(id=1)\n",
    "project = Project.objects.get(id=2)"
   ]
  },
  {
   "cell_type": "code",
   "execution_count": 20,
   "id": "c6798c0f-726d-4469-a8ac-f0d257252b30",
   "metadata": {},
   "outputs": [],
   "source": [
    "submissions = ProjectSubmission.objects.filter(project=project)"
   ]
  },
  {
   "cell_type": "code",
   "execution_count": 21,
   "id": "df384f6b-9c4f-4abe-879b-9a5787ee4279",
   "metadata": {},
   "outputs": [
    {
     "data": {
      "text/plain": [
       "21"
      ]
     },
     "execution_count": 21,
     "metadata": {},
     "output_type": "execute_result"
    }
   ],
   "source": [
    "len(submissions)"
   ]
  },
  {
   "cell_type": "code",
   "execution_count": 22,
   "id": "f5d3fbb7-e86a-4e90-b8c6-da2fd7a640fc",
   "metadata": {},
   "outputs": [],
   "source": [
    "urls = []\n",
    "\n",
    "for submission in submissions:\n",
    "    if submission.student_id == 2:\n",
    "        continue\n",
    "    urls.append(submission.github_link)"
   ]
  },
  {
   "cell_type": "code",
   "execution_count": 23,
   "id": "e3ff1d26-e5f2-4661-8b53-02c364c90760",
   "metadata": {},
   "outputs": [],
   "source": [
    "from csv import DictWriter"
   ]
  },
  {
   "cell_type": "code",
   "execution_count": 24,
   "id": "7a4f1d65-738d-46fa-a4bd-a52e068dc481",
   "metadata": {},
   "outputs": [],
   "source": [
    "seen = set()\n",
    "\n",
    "with open('notebooks/data/project-2-de.csv', 'tw') as f_out:\n",
    "    writer = DictWriter(f_out, ['project_url'])\n",
    "    writer.writeheader()\n",
    "    for url in urls:\n",
    "        if url in seen:\n",
    "            continue\n",
    "        writer.writerow({'project_url': url})\n",
    "        seen.add(url)"
   ]
  },
  {
   "cell_type": "code",
   "execution_count": 25,
   "id": "39fc4ce4-a715-40b3-9faa-c8f23a4ddd53",
   "metadata": {},
   "outputs": [
    {
     "name": "stdout",
     "output_type": "stream",
     "text": [
      "project_url\n",
      "\n",
      "https://github.com/rebekamukherjee/citibike-data-pipeline\n",
      "\n",
      "https://github.com/RoshchinM/de_zoomcamp_2024_UCL_2016-2022\n",
      "\n",
      "https://github.com/chrisdamba/patent-analytics-pipeline\n",
      "\n",
      "https://github.com/Abubakrmali2/DE-Movies-Project\n",
      "\n",
      "https://github.com/muhilhamfajar/youtube-analysis-de-zoomcamp\n",
      "\n",
      "https://github.com/demapumpum/flight-analytics\n",
      "\n",
      "https://github.com/nyan222/roman_empire_zoomcamp\n",
      "\n",
      "https://github.com/rafaelcuperman/de-zoomcamp-project\n",
      "\n",
      "https://github.com/stellalo/Data-Engineering-Capstone-KEGG-dataset-\n",
      "\n"
     ]
    }
   ],
   "source": [
    "!head notebooks/data/project-1-de.csv"
   ]
  },
  {
   "cell_type": "code",
   "execution_count": null,
   "id": "385a4914-6581-4a58-892a-48b52ba2f7c9",
   "metadata": {},
   "outputs": [],
   "source": []
  }
 ],
 "metadata": {
  "kernelspec": {
   "display_name": "Python 3 (ipykernel)",
   "language": "python",
   "name": "python3"
  },
  "language_info": {
   "codemirror_mode": {
    "name": "ipython",
    "version": 3
   },
   "file_extension": ".py",
   "mimetype": "text/x-python",
   "name": "python",
   "nbconvert_exporter": "python",
   "pygments_lexer": "ipython3",
   "version": "3.9.13"
  }
 },
 "nbformat": 4,
 "nbformat_minor": 5
}
