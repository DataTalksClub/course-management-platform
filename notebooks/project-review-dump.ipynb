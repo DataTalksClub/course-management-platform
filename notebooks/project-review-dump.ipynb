{
 "cells": [
  {
   "cell_type": "code",
   "execution_count": 1,
   "id": "f78701db",
   "metadata": {},
   "outputs": [
    {
     "name": "stdout",
     "output_type": "stream",
     "text": [
      "IS_LOCAL=True\n",
      "['C:\\\\Users\\\\alexe\\\\git\\\\course-management-platform\\\\.venv\\\\Lib\\\\site-packages\\\\ipykernel_launcher.py', '-f', 'C:\\\\Users\\\\alexe\\\\AppData\\\\Roaming\\\\jupyter\\\\runtime\\\\kernel-0da6e238-2541-47e5-b3e5-54959c9f90d1.json']\n",
      "Is test: False\n"
     ]
    }
   ],
   "source": [
    "import os\n",
    "os.chdir('..')\n",
    "\n",
    "os.environ[\"DJANGO_SETTINGS_MODULE\"] = \"course_management.settings\"\n",
    "os.environ[\"DJANGO_ALLOW_ASYNC_UNSAFE\"] = \"true\"\n",
    "os.environ[\"IS_LOCAL\"] = \"1\"\n",
    "\n",
    "import django\n",
    "django.setup()"
   ]
  },
  {
   "cell_type": "code",
   "execution_count": 73,
   "id": "e5994e5f-12ff-4caa-b09d-15185ba17d3f",
   "metadata": {},
   "outputs": [],
   "source": [
    "from pathlib import Path"
   ]
  },
  {
   "cell_type": "code",
   "execution_count": 2,
   "id": "c7af9387-0c73-4b6d-a0db-e49bee7237fd",
   "metadata": {},
   "outputs": [],
   "source": [
    "from courses.models import *"
   ]
  },
  {
   "cell_type": "code",
   "execution_count": 3,
   "id": "9cee1bb1-b2f2-4269-93ac-c9cde0de52c5",
   "metadata": {},
   "outputs": [],
   "source": [
    "from django.core.serializers import serialize\n",
    "from django.db.models import Prefetch"
   ]
  },
  {
   "cell_type": "code",
   "execution_count": 67,
   "id": "989c365a-3d1f-46c5-940a-52e18c71c366",
   "metadata": {},
   "outputs": [],
   "source": [
    "def get_course_data_dump(course_slug):\n",
    "    try:\n",
    "        course = Course.objects.get(slug=course_slug)\n",
    "    except Course.DoesNotExist:\n",
    "        return None\n",
    "    \n",
    "    # Get all projects for this course\n",
    "    projects = Project.objects.filter(course=course)\n",
    "    \n",
    "    # Get all submissions for projects in this course\n",
    "    submissions = ProjectSubmission.objects.filter(\n",
    "        project__course=course\n",
    "    ).prefetch_related(\n",
    "        'student', \n",
    "        'enrollment', \n",
    "        'project'\n",
    "    )\n",
    "    \n",
    "    # Get all evaluation criteria for this course\n",
    "    criteria = ReviewCriteria.objects.filter(course=course)\n",
    "    \n",
    "    # Get all peer reviews for submissions in this course\n",
    "    peer_reviews = PeerReview.objects.filter(\n",
    "        submission_under_evaluation__project__course=course\n",
    "    ).prefetch_related(\n",
    "        'submission_under_evaluation',\n",
    "        'reviewer',\n",
    "        'criteria_responses',\n",
    "        'criteria_responses__criteria'\n",
    "    )\n",
    "    \n",
    "    # Get all evaluation scores for this course\n",
    "    evaluation_scores = ProjectEvaluationScore.objects.filter(\n",
    "        submission__project__course=course\n",
    "    ).prefetch_related(\n",
    "        'submission',\n",
    "        'review_criteria'\n",
    "    )\n",
    "    \n",
    "    data = {\n",
    "        'course': [course],\n",
    "        'projects': projects,\n",
    "        'submissions': submissions,\n",
    "        'evaluation_criteria': criteria,\n",
    "        'peer_reviews': peer_reviews,\n",
    "        'evaluation_scores': evaluation_scores\n",
    "    }\n",
    "    \n",
    "    return data"
   ]
  },
  {
   "cell_type": "code",
   "execution_count": 7,
   "id": "bf893247-370a-4fc7-a3dc-f2e2fb0fe04f",
   "metadata": {},
   "outputs": [],
   "source": [
    "course_slug = 'de-zoomcamp-2025'"
   ]
  },
  {
   "cell_type": "code",
   "execution_count": 68,
   "id": "0eb2740c-d4e5-4a63-aa01-1e856920a73f",
   "metadata": {},
   "outputs": [],
   "source": [
    "data = get_course_data_dump(course_slug)"
   ]
  },
  {
   "cell_type": "code",
   "execution_count": 69,
   "id": "c261e618-5982-4551-a283-cfeb63fc73ca",
   "metadata": {},
   "outputs": [
    {
     "name": "stdout",
     "output_type": "stream",
     "text": [
      "Course: Data Engineering Zoomcamp 2025\n",
      "Number of projects: 3\n",
      "Number of submissions: 398\n",
      "Number of criteria: 8\n",
      "Number of peer reviews: 1240\n",
      "Number of evaluation scores: 3184\n"
     ]
    }
   ],
   "source": [
    "print(f\"Course: {data['course'][0].title}\")\n",
    "print(f\"Number of projects: {data['projects'].count()}\")\n",
    "print(f\"Number of submissions: {data['submissions'].count()}\")\n",
    "print(f\"Number of criteria: {data['evaluation_criteria'].count()}\")\n",
    "print(f\"Number of peer reviews: {data['peer_reviews'].count()}\")\n",
    "print(f\"Number of evaluation scores: {data['evaluation_scores'].count()}\")"
   ]
  },
  {
   "cell_type": "code",
   "execution_count": 81,
   "id": "9d1e682a-0b20-4dca-b2f2-301a285e8462",
   "metadata": {},
   "outputs": [],
   "source": [
    "dump_dir = Path('notebooks/data/dump') / course_slug\n",
    "dump_dir.mkdir(parents=True, exist_ok=True)"
   ]
  },
  {
   "cell_type": "code",
   "execution_count": 82,
   "id": "5cf9c3aa-f7c4-4552-a5e5-56bd8edef520",
   "metadata": {},
   "outputs": [],
   "source": [
    "for k, values in data.items():\n",
    "    serialized = serialize('jsonl', values)\n",
    "    target_file = dump_dir / (k + '.jsonl')\n",
    "\n",
    "    with target_file.open('wt', encoding='utf-8') as f_out:\n",
    "        f_out.write(serialized)"
   ]
  },
  {
   "cell_type": "code",
   "execution_count": null,
   "id": "cf707a58-b8c5-415b-a24a-3159629b26f1",
   "metadata": {},
   "outputs": [],
   "source": []
  }
 ],
 "metadata": {
  "kernelspec": {
   "display_name": "Python 3 (ipykernel)",
   "language": "python",
   "name": "python3"
  },
  "language_info": {
   "codemirror_mode": {
    "name": "ipython",
    "version": 3
   },
   "file_extension": ".py",
   "mimetype": "text/x-python",
   "name": "python",
   "nbconvert_exporter": "python",
   "pygments_lexer": "ipython3",
   "version": "3.13.5"
  }
 },
 "nbformat": 4,
 "nbformat_minor": 5
}
